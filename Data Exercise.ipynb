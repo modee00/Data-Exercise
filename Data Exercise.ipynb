{
 "cells": [
  {
   "cell_type": "markdown",
   "metadata": {},
   "source": [
    "# Skills Assessment\n",
    "<center><font size = 3> Marisa Macias </font></center>\n",
    "\n",
    "<h2>Data Set 1</h2>\n",
    "\n",
    "1)  Consider data set 1 (ds1.csv). The data set comprises features (the Five xs) along with three sequences that may or may not be generated from the features (3 ys).\n",
    "\n",
    "a) Describe the data set in a few sentences.  E.g.   What are the distributions of each feature?  Summary statistics?\n",
    "\n",
    "b) Try to come up with a predictive model, e.g.  y = f(x_1 , … , x_n) for each y sequence.   Describe your model and how you came up with them.   What (if any) are the predictive variables?  How good would you say each of your models is?\n",
    "\n",
    "<h2>Data Set 2</h2>\n",
    "\n",
    "2) Consider data set 2 (ds2.csv).  The data asset comprises a set of observations.\n",
    "\n",
    "a) Describe the data set in a few sentences.\n",
    "\n",
    "b) How would you visualize this data set?  Can you make an interesting visualization?\n",
    "\n",
    "c) Someone suggests that the observations are really from multiple different files and were accidentally joined into one larger data set.  Does anything about the data set suggest this?  If so, how many different sources/file do you think there are?\n",
    "\n",
    "d) Bonus points:  If you think there are more than one source in ds2, can you assign each observation to the right source (based on the number of sources you identified in 2c)?\n",
    "\n",
    "\n",
    "<h2>Table of Contents</h2>\n",
    "* [Data Set 1](#D1)\n",
    "    * [Question 1a](#d1qa)\n",
    "    * [Predictive modeling](#d1qb)\n",
    "    * [Q1 Summary](#q1s)\n",
    "* [Data Set 2](#D2)\n",
    "    * [Describe](#d2qa)\n",
    "    * [Visualize](#d2qb)\n",
    "    * [Multiple Sources](#d2qb)\n",
    "    * [Group Membership](#d2qb)    \n",
    "    * [Q2 Summary](#q2s)"
   ]
  },
  {
   "cell_type": "code",
   "execution_count": 4,
   "metadata": {
    "collapsed": false
   },
   "outputs": [],
   "source": [
    "# general purpose data manipulation and plotting\n",
    "import pandas as pd\n",
    "import numpy as np\n",
    "import seaborn as sns\n",
    "import matplotlib.pyplot as plt\n",
    "sns.set_context(\"notebook\", font_scale=1.5, rc={\"lines.linewidth\": 2.5})\n",
    "plt.rcParams['figure.facecolor'] = 'white'\n",
    "\n",
    "%matplotlib inline\n",
    "\n",
    "# dimensionality reduction and visualization\n",
    "from sklearn.decomposition import PCA\n",
    "\n",
    "# data cleaning, processing\n",
    "from sklearn.model_selection import train_test_split\n",
    "from sklearn.preprocessing import PolynomialFeatures\n",
    "\n",
    "# models\n",
    "from sklearn.linear_model import LinearRegression, Ridge\n",
    "from sklearn.cluster import KMeans\n",
    "import mglearn\n",
    "\n",
    "# tests\n",
    "from scipy import stats\n",
    "import statsmodels.api as sm\n",
    "from sklearn import metrics\n",
    "\n",
    "from scipy.stats import ks_2samp\n",
    "\n",
    "## ignore warnings\n",
    "import warnings\n",
    "warnings.filterwarnings('ignore')"
   ]
  },
  {
   "cell_type": "markdown",
   "metadata": {},
   "source": [
    "<h2>Data Set One</h2> <a class=\"anchor\" id=\"d1qa\"></a>\n",
    "The first dataset is a single file of continuous variables."
   ]
  },
  {
   "cell_type": "code",
   "execution_count": 13,
   "metadata": {
    "collapsed": false
   },
   "outputs": [],
   "source": [
    "d1 = pd.read_csv('data set 1.csv')"
   ]
  },
  {
   "cell_type": "code",
   "execution_count": 14,
   "metadata": {
    "collapsed": false
   },
   "outputs": [
    {
     "data": {
      "text/plain": [
       "Unnamed: 0      int64\n",
       "x1            float64\n",
       "x2            float64\n",
       "x3            float64\n",
       "x5            float64\n",
       "x6            float64\n",
       "ya            float64\n",
       "yb            float64\n",
       "yc            float64\n",
       "dtype: object"
      ]
     },
     "execution_count": 14,
     "metadata": {},
     "output_type": "execute_result"
    }
   ],
   "source": [
    "d1.dtypes"
   ]
  },
  {
   "cell_type": "code",
   "execution_count": 15,
   "metadata": {
    "collapsed": false
   },
   "outputs": [
    {
     "data": {
      "text/plain": [
       "100000"
      ]
     },
     "execution_count": 15,
     "metadata": {},
     "output_type": "execute_result"
    }
   ],
   "source": [
    "d1.shape[0]"
   ]
  },
  {
   "cell_type": "code",
   "execution_count": 16,
   "metadata": {
    "collapsed": false
   },
   "outputs": [],
   "source": [
    "d1.rename(columns={'Unnamed: 0':'id'}, inplace=True)\n",
    "variables_df = d1.drop(['id','ya','yb','yc'], axis=1)\n",
    "targets_df = d1.drop(['id','x1','x2','x3', 'x5','x6'], axis=1)\n",
    "target_ya = d1['ya']\n",
    "target_yb = d1['yb']\n",
    "target_yc = d1['yc']"
   ]
  },
  {
   "cell_type": "code",
   "execution_count": 17,
   "metadata": {
    "collapsed": false
   },
   "outputs": [
    {
     "data": {
      "text/html": [
       "<div>\n",
       "<style>\n",
       "    .dataframe thead tr:only-child th {\n",
       "        text-align: right;\n",
       "    }\n",
       "\n",
       "    .dataframe thead th {\n",
       "        text-align: left;\n",
       "    }\n",
       "\n",
       "    .dataframe tbody tr th {\n",
       "        vertical-align: top;\n",
       "    }\n",
       "</style>\n",
       "<table border=\"1\" class=\"dataframe\">\n",
       "  <thead>\n",
       "    <tr style=\"text-align: right;\">\n",
       "      <th></th>\n",
       "      <th>x1</th>\n",
       "      <th>x2</th>\n",
       "      <th>x3</th>\n",
       "      <th>x5</th>\n",
       "      <th>x6</th>\n",
       "    </tr>\n",
       "  </thead>\n",
       "  <tbody>\n",
       "    <tr>\n",
       "      <th>count</th>\n",
       "      <td>100000.000000</td>\n",
       "      <td>100000.000000</td>\n",
       "      <td>100000.000000</td>\n",
       "      <td>100000.000000</td>\n",
       "      <td>100000.000000</td>\n",
       "    </tr>\n",
       "    <tr>\n",
       "      <th>mean</th>\n",
       "      <td>5.011059</td>\n",
       "      <td>-3.005565</td>\n",
       "      <td>2.500593</td>\n",
       "      <td>0.999136</td>\n",
       "      <td>0.000647</td>\n",
       "    </tr>\n",
       "    <tr>\n",
       "      <th>std</th>\n",
       "      <td>2.873568</td>\n",
       "      <td>2.000799</td>\n",
       "      <td>1.752906</td>\n",
       "      <td>1.002006</td>\n",
       "      <td>4.663860</td>\n",
       "    </tr>\n",
       "    <tr>\n",
       "      <th>min</th>\n",
       "      <td>0.000015</td>\n",
       "      <td>-12.498524</td>\n",
       "      <td>-3.489212</td>\n",
       "      <td>0.000003</td>\n",
       "      <td>-13.885453</td>\n",
       "    </tr>\n",
       "    <tr>\n",
       "      <th>25%</th>\n",
       "      <td>2.536309</td>\n",
       "      <td>-4.353844</td>\n",
       "      <td>1.189920</td>\n",
       "      <td>0.285629</td>\n",
       "      <td>-2.611943</td>\n",
       "    </tr>\n",
       "    <tr>\n",
       "      <th>50%</th>\n",
       "      <td>5.022191</td>\n",
       "      <td>-3.002649</td>\n",
       "      <td>2.503764</td>\n",
       "      <td>0.690903</td>\n",
       "      <td>-0.000611</td>\n",
       "    </tr>\n",
       "    <tr>\n",
       "      <th>75%</th>\n",
       "      <td>7.486275</td>\n",
       "      <td>-1.649283</td>\n",
       "      <td>3.802236</td>\n",
       "      <td>1.386862</td>\n",
       "      <td>2.621841</td>\n",
       "    </tr>\n",
       "    <tr>\n",
       "      <th>max</th>\n",
       "      <td>9.999887</td>\n",
       "      <td>6.089820</td>\n",
       "      <td>8.679097</td>\n",
       "      <td>15.102966</td>\n",
       "      <td>13.924740</td>\n",
       "    </tr>\n",
       "  </tbody>\n",
       "</table>\n",
       "</div>"
      ],
      "text/plain": [
       "                  x1             x2             x3             x5  \\\n",
       "count  100000.000000  100000.000000  100000.000000  100000.000000   \n",
       "mean        5.011059      -3.005565       2.500593       0.999136   \n",
       "std         2.873568       2.000799       1.752906       1.002006   \n",
       "min         0.000015     -12.498524      -3.489212       0.000003   \n",
       "25%         2.536309      -4.353844       1.189920       0.285629   \n",
       "50%         5.022191      -3.002649       2.503764       0.690903   \n",
       "75%         7.486275      -1.649283       3.802236       1.386862   \n",
       "max         9.999887       6.089820       8.679097      15.102966   \n",
       "\n",
       "                  x6  \n",
       "count  100000.000000  \n",
       "mean        0.000647  \n",
       "std         4.663860  \n",
       "min       -13.885453  \n",
       "25%        -2.611943  \n",
       "50%        -0.000611  \n",
       "75%         2.621841  \n",
       "max        13.924740  "
      ]
     },
     "execution_count": 17,
     "metadata": {},
     "output_type": "execute_result"
    }
   ],
   "source": [
    "variables_df.describe()"
   ]
  },
  {
   "cell_type": "code",
   "execution_count": 18,
   "metadata": {
    "collapsed": false
   },
   "outputs": [
    {
     "data": {
      "text/plain": [
       "[(-15, 15)]"
      ]
     },
     "execution_count": 18,
     "metadata": {},
     "output_type": "execute_result"
    },
    {
     "data": {
      "image/png": "[encoded data removed]",
      "text/plain": [
       "<matplotlib.figure.Figure at 0x1021ca450>"
      ]
     },
     "metadata": {},
     "output_type": "display_data"
    }
   ],
   "source": [
    "variables_df.plot(kind = 'kde', alpha = 0.6, cmap = \"viridis\").set(xlim=(-15, 15))"
   ]
  },
  {
   "cell_type": "code",
   "execution_count": 19,
   "metadata": {
    "collapsed": false,
    "scrolled": true
   },
   "outputs": [
    {
     "data": {
      "text/html": [
       "<div>\n",
       "<style>\n",
       "    .dataframe thead tr:only-child th {\n",
       "        text-align: right;\n",
       "    }\n",
       "\n",
       "    .dataframe thead th {\n",
       "        text-align: left;\n",
       "    }\n",
       "\n",
       "    .dataframe tbody tr th {\n",
       "        vertical-align: top;\n",
       "    }\n",
       "</style>\n",
       "<table border=\"1\" class=\"dataframe\">\n",
       "  <thead>\n",
       "    <tr style=\"text-align: right;\">\n",
       "      <th></th>\n",
       "      <th>ya</th>\n",
       "      <th>yb</th>\n",
       "      <th>yc</th>\n",
       "    </tr>\n",
       "  </thead>\n",
       "  <tbody>\n",
       "    <tr>\n",
       "      <th>count</th>\n",
       "      <td>100000.000000</td>\n",
       "      <td>100000.000000</td>\n",
       "      <td>1.000000e+05</td>\n",
       "    </tr>\n",
       "    <tr>\n",
       "      <th>mean</th>\n",
       "      <td>3.827867</td>\n",
       "      <td>2.111854</td>\n",
       "      <td>1.022765e-04</td>\n",
       "    </tr>\n",
       "    <tr>\n",
       "      <th>std</th>\n",
       "      <td>18.438514</td>\n",
       "      <td>0.769306</td>\n",
       "      <td>3.121215e-02</td>\n",
       "    </tr>\n",
       "    <tr>\n",
       "      <th>min</th>\n",
       "      <td>-64.021995</td>\n",
       "      <td>-0.523672</td>\n",
       "      <td>-5.433613e-01</td>\n",
       "    </tr>\n",
       "    <tr>\n",
       "      <th>25%</th>\n",
       "      <td>-8.998020</td>\n",
       "      <td>1.580212</td>\n",
       "      <td>-2.423158e-03</td>\n",
       "    </tr>\n",
       "    <tr>\n",
       "      <th>50%</th>\n",
       "      <td>2.666992</td>\n",
       "      <td>2.231057</td>\n",
       "      <td>-5.670000e-10</td>\n",
       "    </tr>\n",
       "    <tr>\n",
       "      <th>75%</th>\n",
       "      <td>15.579687</td>\n",
       "      <td>2.733318</td>\n",
       "      <td>2.476745e-03</td>\n",
       "    </tr>\n",
       "    <tr>\n",
       "      <th>max</th>\n",
       "      <td>107.713997</td>\n",
       "      <td>3.841363</td>\n",
       "      <td>8.183882e-01</td>\n",
       "    </tr>\n",
       "  </tbody>\n",
       "</table>\n",
       "</div>"
      ],
      "text/plain": [
       "                  ya             yb            yc\n",
       "count  100000.000000  100000.000000  1.000000e+05\n",
       "mean        3.827867       2.111854  1.022765e-04\n",
       "std        18.438514       0.769306  3.121215e-02\n",
       "min       -64.021995      -0.523672 -5.433613e-01\n",
       "25%        -8.998020       1.580212 -2.423158e-03\n",
       "50%         2.666992       2.231057 -5.670000e-10\n",
       "75%        15.579687       2.733318  2.476745e-03\n",
       "max       107.713997       3.841363  8.183882e-01"
      ]
     },
     "execution_count": 19,
     "metadata": {},
     "output_type": "execute_result"
    }
   ],
   "source": [
    "targets_df.describe()"
   ]
  },
  {
   "cell_type": "markdown",
   "metadata": {},
   "source": [
    "As you can see in the above tables and figures, the features are five continuous variables between negative fourteen and sixteen. The last feature, x6, has a much larger standard deviation as well as the smallest minimum and one of the largest maximums. The majority of values fall between negative five and postive five, and the means are within those bounds as well. x1 has no negative values, which explains it's higher mean. X5 is leptokurtic while x1 and x6 are more playkurtic."
   ]
  },
  {
   "cell_type": "markdown",
   "metadata": {},
   "source": [
    "## Predictive Modeling <a class=\"anchor\" id=\"d1qb\"></a>"
   ]
  },
  {
   "cell_type": "code",
   "execution_count": 20,
   "metadata": {
    "collapsed": false
   },
   "outputs": [
    {
     "name": "stdout",
     "output_type": "stream",
     "text": [
      "                            OLS Regression Results                            \n",
      "==============================================================================\n",
      "Dep. Variable:                     ya   R-squared:                       0.668\n",
      "Model:                            OLS   Adj. R-squared:                  0.668\n",
      "Method:                 Least Squares   F-statistic:                 3.016e+04\n",
      "Date:                Tue, 21 Nov 2017   Prob (F-statistic):               0.00\n",
      "Time:                        21:14:55   Log-Likelihood:            -2.8523e+05\n",
      "No. Observations:               75000   AIC:                         5.705e+05\n",
      "Df Residuals:                   74995   BIC:                         5.705e+05\n",
      "Df Model:                           5                                         \n",
      "Covariance Type:            nonrobust                                         \n",
      "==============================================================================\n",
      "                 coef    std err          t      P>|t|      [0.025      0.975]\n",
      "------------------------------------------------------------------------------\n",
      "x1             3.1577      0.022    140.758      0.000       3.114       3.202\n",
      "x2             5.4484      0.016    331.112      0.000       5.416       5.481\n",
      "x3             0.9186      0.040     23.182      0.000       0.841       0.996\n",
      "x5             1.0394      0.037     28.204      0.000       0.967       1.112\n",
      "x6             0.0103      0.008      1.211      0.226      -0.006       0.027\n",
      "==============================================================================\n",
      "Omnibus:                       14.734   Durbin-Watson:                   1.974\n",
      "Prob(Omnibus):                  0.001   Jarque-Bera (JB):               15.283\n",
      "Skew:                           0.018   Prob(JB):                     0.000480\n",
      "Kurtosis:                       3.060   Cond. No.                         8.01\n",
      "==============================================================================\n",
      "\n",
      "Warnings:\n",
      "[1] Standard Errors assume that the covariance matrix of the errors is correctly specified.\n"
     ]
    }
   ],
   "source": [
    "X_train, X_test, y_train, y_test = train_test_split(variables_df, target_ya, random_state = 42)\n",
    "est = sm.OLS(y_train, X_train)\n",
    "est2 = est.fit()\n",
    "print(est2.summary())"
   ]
  },
  {
   "cell_type": "code",
   "execution_count": 26,
   "metadata": {
    "collapsed": false
   },
   "outputs": [
    {
     "name": "stdout",
     "output_type": "stream",
     "text": [
      "10.4624552112\n"
     ]
    }
   ],
   "source": [
    "lm = LinearRegression().fit(X_train, y_train)\n",
    "y_pred = lm.predict(X_test)\n",
    "print np.sqrt(metrics.mean_squared_error(y_test, y_pred))"
   ]
  },
  {
   "cell_type": "code",
   "execution_count": 27,
   "metadata": {
    "collapsed": false
   },
   "outputs": [],
   "source": [
    "variables_t = PolynomialFeatures(2, interaction_only=True, include_bias=False).fit_transform(variables_df)\n",
    "poly_df = pd.DataFrame(variables_t)\n",
    "poly_df.columns = ['x1', 'x2', 'x3', 'x5', 'x6','x1:x2','x1:x3', 'x1:x5', 'x1:x6',\n",
    "                   'x2:x3','x2:x5','x2:x6','x3:x5', 'x3:x6', 'x5:x6']"
   ]
  },
  {
   "cell_type": "code",
   "execution_count": 28,
   "metadata": {
    "collapsed": false
   },
   "outputs": [
    {
     "name": "stdout",
     "output_type": "stream",
     "text": [
      "                            OLS Regression Results                            \n",
      "==============================================================================\n",
      "Dep. Variable:                     ya   R-squared:                       0.715\n",
      "Model:                            OLS   Adj. R-squared:                  0.715\n",
      "Method:                 Least Squares   F-statistic:                 1.254e+04\n",
      "Date:                Tue, 21 Nov 2017   Prob (F-statistic):               0.00\n",
      "Time:                        21:24:31   Log-Likelihood:            -2.7950e+05\n",
      "No. Observations:               75000   AIC:                         5.590e+05\n",
      "Df Residuals:                   74985   BIC:                         5.592e+05\n",
      "Df Model:                          15                                         \n",
      "Covariance Type:            nonrobust                                         \n",
      "==============================================================================\n",
      "                 coef    std err          t      P>|t|      [0.025      0.975]\n",
      "------------------------------------------------------------------------------\n",
      "x1             3.8654      0.042     92.086      0.000       3.783       3.948\n",
      "x2             3.4864      0.029    119.862      0.000       3.429       3.543\n",
      "x3             0.3155      0.084      3.748      0.000       0.151       0.480\n",
      "x5             0.2203      0.078      2.819      0.005       0.067       0.373\n",
      "x6             0.0397      0.035      1.146      0.252      -0.028       0.107\n",
      "x1:x2          0.5344      0.011     50.186      0.000       0.513       0.555\n",
      "x1:x3          0.1229      0.007     16.907      0.000       0.109       0.137\n",
      "x1:x5         -0.0013      0.022     -0.061      0.951      -0.044       0.042\n",
      "x1:x6         -0.0015      0.006     -0.256      0.798      -0.013       0.010\n",
      "x2:x3         -0.0030      0.018     -0.162      0.871      -0.039       0.033\n",
      "x2:x5          0.0275      0.017      1.580      0.114      -0.007       0.062\n",
      "x2:x6          0.0056      0.004      1.422      0.155      -0.002       0.013\n",
      "x3:x5         -0.0277      0.037     -0.752      0.452      -0.100       0.044\n",
      "x3:x6         -0.0033      0.008     -0.415      0.678      -0.019       0.012\n",
      "x5:x6          0.0078      0.008      1.001      0.317      -0.008       0.023\n",
      "==============================================================================\n",
      "Omnibus:                        2.648   Durbin-Watson:                   1.997\n",
      "Prob(Omnibus):                  0.266   Jarque-Bera (JB):                2.642\n",
      "Skew:                           0.014   Prob(JB):                        0.267\n",
      "Kurtosis:                       3.004   Cond. No.                         110.\n",
      "==============================================================================\n",
      "\n",
      "Warnings:\n",
      "[1] Standard Errors assume that the covariance matrix of the errors is correctly specified.\n"
     ]
    }
   ],
   "source": [
    "X_train, X_test, y_train, y_test = train_test_split(poly_df, target_ya, random_state = 42)\n",
    "est = sm.OLS(y_train, X_train)\n",
    "est2 = est.fit()\n",
    "print(est2.summary())"
   ]
  },
  {
   "cell_type": "code",
   "execution_count": 36,
   "metadata": {
    "collapsed": false
   },
   "outputs": [],
   "source": [
    "poly_yad = poly_df.drop(['x1:x5'], axis=1)"
   ]
  },
  {
   "cell_type": "code",
   "execution_count": 37,
   "metadata": {
    "collapsed": false
   },
   "outputs": [
    {
     "name": "stdout",
     "output_type": "stream",
     "text": [
      "                            OLS Regression Results                            \n",
      "==============================================================================\n",
      "Dep. Variable:                     ya   R-squared:                       0.715\n",
      "Model:                            OLS   Adj. R-squared:                  0.715\n",
      "Method:                 Least Squares   F-statistic:                 1.343e+04\n",
      "Date:                Tue, 21 Nov 2017   Prob (F-statistic):               0.00\n",
      "Time:                        21:26:49   Log-Likelihood:            -2.7950e+05\n",
      "No. Observations:               75000   AIC:                         5.590e+05\n",
      "Df Residuals:                   74986   BIC:                         5.591e+05\n",
      "Df Model:                          14                                         \n",
      "Covariance Type:            nonrobust                                         \n",
      "==============================================================================\n",
      "                 coef    std err          t      P>|t|      [0.025      0.975]\n",
      "------------------------------------------------------------------------------\n",
      "x1             3.8644      0.038    100.580      0.000       3.789       3.940\n",
      "x2             3.4860      0.028    122.871      0.000       3.430       3.542\n",
      "x3             0.3176      0.077      4.119      0.000       0.166       0.469\n",
      "x5             0.2185      0.073      2.997      0.003       0.076       0.361\n",
      "x6             0.0397      0.035      1.147      0.252      -0.028       0.108\n",
      "x1:x2          0.5344      0.011     50.326      0.000       0.514       0.555\n",
      "x1:x3          0.1229      0.007     16.963      0.000       0.109       0.137\n",
      "x1:x6         -0.0015      0.006     -0.257      0.797      -0.013       0.010\n",
      "x2:x3         -0.0030      0.018     -0.162      0.871      -0.039       0.033\n",
      "x2:x5          0.0275      0.017      1.589      0.112      -0.006       0.062\n",
      "x2:x6          0.0056      0.004      1.422      0.155      -0.002       0.013\n",
      "x3:x5         -0.0295      0.020     -1.486      0.137      -0.068       0.009\n",
      "x3:x6         -0.0033      0.008     -0.415      0.678      -0.019       0.012\n",
      "x5:x6          0.0078      0.008      1.000      0.317      -0.008       0.023\n",
      "==============================================================================\n",
      "Omnibus:                        2.648   Durbin-Watson:                   1.997\n",
      "Prob(Omnibus):                  0.266   Jarque-Bera (JB):                2.641\n",
      "Skew:                           0.014   Prob(JB):                        0.267\n",
      "Kurtosis:                       3.004   Cond. No.                         99.8\n",
      "==============================================================================\n",
      "\n",
      "Warnings:\n",
      "[1] Standard Errors assume that the covariance matrix of the errors is correctly specified.\n"
     ]
    }
   ],
   "source": [
    "X_train, X_test, y_train, y_test = train_test_split(poly_yad, target_ya, random_state = 42)\n",
    "est = sm.OLS(y_train, X_train)\n",
    "est2 = est.fit()\n",
    "print(est2.summary())"
   ]
  },
  {
   "cell_type": "code",
   "execution_count": 38,
   "metadata": {
    "collapsed": true
   },
   "outputs": [],
   "source": [
    "poly_yad = poly_yad.drop(['x2:x3'], axis=1)"
   ]
  },
  {
   "cell_type": "code",
   "execution_count": 39,
   "metadata": {
    "collapsed": false
   },
   "outputs": [
    {
     "name": "stdout",
     "output_type": "stream",
     "text": [
      "                            OLS Regression Results                            \n",
      "==============================================================================\n",
      "Dep. Variable:                     ya   R-squared:                       0.715\n",
      "Model:                            OLS   Adj. R-squared:                  0.715\n",
      "Method:                 Least Squares   F-statistic:                 1.447e+04\n",
      "Date:                Tue, 21 Nov 2017   Prob (F-statistic):               0.00\n",
      "Time:                        21:26:56   Log-Likelihood:            -2.7950e+05\n",
      "No. Observations:               75000   AIC:                         5.590e+05\n",
      "Df Residuals:                   74987   BIC:                         5.591e+05\n",
      "Df Model:                          13                                         \n",
      "Covariance Type:            nonrobust                                         \n",
      "==============================================================================\n",
      "                 coef    std err          t      P>|t|      [0.025      0.975]\n",
      "------------------------------------------------------------------------------\n",
      "x1             3.8599      0.027    144.433      0.000       3.808       3.912\n",
      "x2             3.4860      0.028    122.872      0.000       3.430       3.542\n",
      "x3             0.3265      0.054      6.082      0.000       0.221       0.432\n",
      "x5             0.2185      0.073      2.997      0.003       0.076       0.361\n",
      "x6             0.0397      0.035      1.146      0.252      -0.028       0.107\n",
      "x1:x2          0.5329      0.005    100.752      0.000       0.523       0.543\n",
      "x1:x3          0.1229      0.007     16.963      0.000       0.109       0.137\n",
      "x1:x6         -0.0015      0.006     -0.256      0.798      -0.013       0.010\n",
      "x2:x5          0.0275      0.017      1.589      0.112      -0.006       0.062\n",
      "x2:x6          0.0056      0.004      1.421      0.155      -0.002       0.013\n",
      "x3:x5         -0.0295      0.020     -1.486      0.137      -0.068       0.009\n",
      "x3:x6         -0.0033      0.008     -0.416      0.677      -0.019       0.012\n",
      "x5:x6          0.0078      0.008      1.001      0.317      -0.008       0.023\n",
      "==============================================================================\n",
      "Omnibus:                        2.645   Durbin-Watson:                   1.997\n",
      "Prob(Omnibus):                  0.266   Jarque-Bera (JB):                2.638\n",
      "Skew:                           0.014   Prob(JB):                        0.267\n",
      "Kurtosis:                       3.004   Cond. No.                         89.4\n",
      "==============================================================================\n",
      "\n",
      "Warnings:\n",
      "[1] Standard Errors assume that the covariance matrix of the errors is correctly specified.\n"
     ]
    }
   ],
   "source": [
    "X_train, X_test, y_train, y_test = train_test_split(poly_yad, target_ya, random_state = 42)\n",
    "est = sm.OLS(y_train, X_train)\n",
    "est2 = est.fit()\n",
    "print(est2.summary())"
   ]
  },
  {
   "cell_type": "code",
   "execution_count": 40,
   "metadata": {
    "collapsed": true
   },
   "outputs": [],
   "source": [
    "poly_yad = poly_yad.drop(['x1:x6'], axis=1)"
   ]
  },
  {
   "cell_type": "code",
   "execution_count": 41,
   "metadata": {
    "collapsed": false
   },
   "outputs": [
    {
     "name": "stdout",
     "output_type": "stream",
     "text": [
      "                            OLS Regression Results                            \n",
      "==============================================================================\n",
      "Dep. Variable:                     ya   R-squared:                       0.715\n",
      "Model:                            OLS   Adj. R-squared:                  0.715\n",
      "Method:                 Least Squares   F-statistic:                 1.567e+04\n",
      "Date:                Tue, 21 Nov 2017   Prob (F-statistic):               0.00\n",
      "Time:                        21:27:12   Log-Likelihood:            -2.7950e+05\n",
      "No. Observations:               75000   AIC:                         5.590e+05\n",
      "Df Residuals:                   74988   BIC:                         5.591e+05\n",
      "Df Model:                          12                                         \n",
      "Covariance Type:            nonrobust                                         \n",
      "==============================================================================\n",
      "                 coef    std err          t      P>|t|      [0.025      0.975]\n",
      "------------------------------------------------------------------------------\n",
      "x1             3.8600      0.027    144.436      0.000       3.808       3.912\n",
      "x2             3.4860      0.028    122.873      0.000       3.430       3.542\n",
      "x3             0.3265      0.054      6.081      0.000       0.221       0.432\n",
      "x5             0.2185      0.073      2.997      0.003       0.076       0.361\n",
      "x6             0.0340      0.027      1.276      0.202      -0.018       0.086\n",
      "x1:x2          0.5329      0.005    100.753      0.000       0.523       0.543\n",
      "x1:x3          0.1229      0.007     16.964      0.000       0.109       0.137\n",
      "x2:x5          0.0275      0.017      1.589      0.112      -0.006       0.062\n",
      "x2:x6          0.0056      0.004      1.421      0.155      -0.002       0.013\n",
      "x3:x5         -0.0295      0.020     -1.485      0.137      -0.068       0.009\n",
      "x3:x6         -0.0047      0.006     -0.825      0.409      -0.016       0.006\n",
      "x5:x6          0.0078      0.008      0.999      0.318      -0.008       0.023\n",
      "==============================================================================\n",
      "Omnibus:                        2.639   Durbin-Watson:                   1.997\n",
      "Prob(Omnibus):                  0.267   Jarque-Bera (JB):                2.632\n",
      "Skew:                           0.014   Prob(JB):                        0.268\n",
      "Kurtosis:                       3.004   Cond. No.                         63.0\n",
      "==============================================================================\n",
      "\n",
      "Warnings:\n",
      "[1] Standard Errors assume that the covariance matrix of the errors is correctly specified.\n"
     ]
    }
   ],
   "source": [
    "X_train, X_test, y_train, y_test = train_test_split(poly_yad, target_ya, random_state = 42)\n",
    "est = sm.OLS(y_train, X_train)\n",
    "est2 = est.fit()\n",
    "print(est2.summary())"
   ]
  },
  {
   "cell_type": "code",
   "execution_count": 42,
   "metadata": {
    "collapsed": true
   },
   "outputs": [],
   "source": [
    "poly_yad = poly_yad.drop(['x3:x6'], axis=1)"
   ]
  },
  {
   "cell_type": "code",
   "execution_count": 43,
   "metadata": {
    "collapsed": false
   },
   "outputs": [
    {
     "name": "stdout",
     "output_type": "stream",
     "text": [
      "                            OLS Regression Results                            \n",
      "==============================================================================\n",
      "Dep. Variable:                     ya   R-squared:                       0.715\n",
      "Model:                            OLS   Adj. R-squared:                  0.715\n",
      "Method:                 Least Squares   F-statistic:                 1.710e+04\n",
      "Date:                Tue, 21 Nov 2017   Prob (F-statistic):               0.00\n",
      "Time:                        21:27:33   Log-Likelihood:            -2.7950e+05\n",
      "No. Observations:               75000   AIC:                         5.590e+05\n",
      "Df Residuals:                   74989   BIC:                         5.591e+05\n",
      "Df Model:                          11                                         \n",
      "Covariance Type:            nonrobust                                         \n",
      "==============================================================================\n",
      "                 coef    std err          t      P>|t|      [0.025      0.975]\n",
      "------------------------------------------------------------------------------\n",
      "x1             3.8599      0.027    144.436      0.000       3.808       3.912\n",
      "x2             3.4860      0.028    122.873      0.000       3.430       3.542\n",
      "x3             0.3265      0.054      6.083      0.000       0.221       0.432\n",
      "x5             0.2185      0.073      2.996      0.003       0.076       0.361\n",
      "x6             0.0166      0.016      1.021      0.307      -0.015       0.048\n",
      "x1:x2          0.5329      0.005    100.752      0.000       0.523       0.543\n",
      "x1:x3          0.1228      0.007     16.961      0.000       0.109       0.137\n",
      "x2:x5          0.0276      0.017      1.591      0.112      -0.006       0.062\n",
      "x2:x6          0.0056      0.004      1.418      0.156      -0.002       0.013\n",
      "x3:x5         -0.0295      0.020     -1.482      0.138      -0.068       0.009\n",
      "x5:x6          0.0078      0.008      1.001      0.317      -0.008       0.023\n",
      "==============================================================================\n",
      "Omnibus:                        2.636   Durbin-Watson:                   1.997\n",
      "Prob(Omnibus):                  0.268   Jarque-Bera (JB):                2.630\n",
      "Skew:                           0.014   Prob(JB):                        0.269\n",
      "Kurtosis:                       3.004   Cond. No.                         63.0\n",
      "==============================================================================\n",
      "\n",
      "Warnings:\n",
      "[1] Standard Errors assume that the covariance matrix of the errors is correctly specified.\n"
     ]
    }
   ],
   "source": [
    "X_train, X_test, y_train, y_test = train_test_split(poly_yad, target_ya, random_state = 42)\n",
    "est = sm.OLS(y_train, X_train)\n",
    "est2 = est.fit()\n",
    "print(est2.summary())"
   ]
  },
  {
   "cell_type": "code",
   "execution_count": 44,
   "metadata": {
    "collapsed": true
   },
   "outputs": [],
   "source": [
    "poly_yad = poly_yad.drop(['x5:x6'], axis=1)"
   ]
  },
  {
   "cell_type": "code",
   "execution_count": 45,
   "metadata": {
    "collapsed": false
   },
   "outputs": [
    {
     "name": "stdout",
     "output_type": "stream",
     "text": [
      "                            OLS Regression Results                            \n",
      "==============================================================================\n",
      "Dep. Variable:                     ya   R-squared:                       0.715\n",
      "Model:                            OLS   Adj. R-squared:                  0.715\n",
      "Method:                 Least Squares   F-statistic:                 1.881e+04\n",
      "Date:                Tue, 21 Nov 2017   Prob (F-statistic):               0.00\n",
      "Time:                        21:28:09   Log-Likelihood:            -2.7950e+05\n",
      "No. Observations:               75000   AIC:                         5.590e+05\n",
      "Df Residuals:                   74990   BIC:                         5.591e+05\n",
      "Df Model:                          10                                         \n",
      "Covariance Type:            nonrobust                                         \n",
      "==============================================================================\n",
      "                 coef    std err          t      P>|t|      [0.025      0.975]\n",
      "------------------------------------------------------------------------------\n",
      "x1             3.8599      0.027    144.435      0.000       3.808       3.912\n",
      "x2             3.4860      0.028    122.872      0.000       3.430       3.542\n",
      "x3             0.3264      0.054      6.080      0.000       0.221       0.432\n",
      "x5             0.2189      0.073      3.002      0.003       0.076       0.362\n",
      "x6             0.0245      0.014      1.731      0.083      -0.003       0.052\n",
      "x1:x2          0.5329      0.005    100.747      0.000       0.523       0.543\n",
      "x1:x3          0.1228      0.007     16.959      0.000       0.109       0.137\n",
      "x2:x5          0.0277      0.017      1.601      0.109      -0.006       0.062\n",
      "x2:x6          0.0056      0.004      1.425      0.154      -0.002       0.013\n",
      "x3:x5         -0.0293      0.020     -1.475      0.140      -0.068       0.010\n",
      "==============================================================================\n",
      "Omnibus:                        2.624   Durbin-Watson:                   1.997\n",
      "Prob(Omnibus):                  0.269   Jarque-Bera (JB):                2.617\n",
      "Skew:                           0.014   Prob(JB):                        0.270\n",
      "Kurtosis:                       3.004   Cond. No.                         63.0\n",
      "==============================================================================\n",
      "\n",
      "Warnings:\n",
      "[1] Standard Errors assume that the covariance matrix of the errors is correctly specified.\n"
     ]
    }
   ],
   "source": [
    "X_train, X_test, y_train, y_test = train_test_split(poly_yad, target_ya, random_state = 42)\n",
    "est = sm.OLS(y_train, X_train)\n",
    "est2 = est.fit()\n",
    "print(est2.summary())"
   ]
  },
  {
   "cell_type": "code",
   "execution_count": 46,
   "metadata": {
    "collapsed": true
   },
   "outputs": [],
   "source": [
    "poly_yad = poly_yad.drop(['x2:x6'], axis=1)"
   ]
  },
  {
   "cell_type": "code",
   "execution_count": 47,
   "metadata": {
    "collapsed": false
   },
   "outputs": [
    {
     "name": "stdout",
     "output_type": "stream",
     "text": [
      "                            OLS Regression Results                            \n",
      "==============================================================================\n",
      "Dep. Variable:                     ya   R-squared:                       0.715\n",
      "Model:                            OLS   Adj. R-squared:                  0.715\n",
      "Method:                 Least Squares   F-statistic:                 2.090e+04\n",
      "Date:                Tue, 21 Nov 2017   Prob (F-statistic):               0.00\n",
      "Time:                        21:29:52   Log-Likelihood:            -2.7950e+05\n",
      "No. Observations:               75000   AIC:                         5.590e+05\n",
      "Df Residuals:                   74991   BIC:                         5.591e+05\n",
      "Df Model:                           9                                         \n",
      "Covariance Type:            nonrobust                                         \n",
      "==============================================================================\n",
      "                 coef    std err          t      P>|t|      [0.025      0.975]\n",
      "------------------------------------------------------------------------------\n",
      "x1             3.8598      0.027    144.432      0.000       3.807       3.912\n",
      "x2             3.4859      0.028    122.869      0.000       3.430       3.542\n",
      "x3             0.3265      0.054      6.082      0.000       0.221       0.432\n",
      "x5             0.2189      0.073      3.002      0.003       0.076       0.362\n",
      "x6             0.0077      0.008      0.983      0.325      -0.008       0.023\n",
      "x1:x2          0.5329      0.005    100.750      0.000       0.523       0.543\n",
      "x1:x3          0.1228      0.007     16.961      0.000       0.109       0.137\n",
      "x2:x5          0.0277      0.017      1.601      0.109      -0.006       0.062\n",
      "x3:x5         -0.0294      0.020     -1.477      0.140      -0.068       0.010\n",
      "==============================================================================\n",
      "Omnibus:                        2.600   Durbin-Watson:                   1.997\n",
      "Prob(Omnibus):                  0.273   Jarque-Bera (JB):                2.593\n",
      "Skew:                           0.014   Prob(JB):                        0.273\n",
      "Kurtosis:                       3.005   Cond. No.                         63.0\n",
      "==============================================================================\n",
      "\n",
      "Warnings:\n",
      "[1] Standard Errors assume that the covariance matrix of the errors is correctly specified.\n"
     ]
    }
   ],
   "source": [
    "X_train, X_test, y_train, y_test = train_test_split(poly_yad, target_ya, random_state = 42)\n",
    "est = sm.OLS(y_train, X_train)\n",
    "est2 = est.fit()\n",
    "print(est2.summary())"
   ]
  },
  {
   "cell_type": "code",
   "execution_count": 48,
   "metadata": {
    "collapsed": true
   },
   "outputs": [],
   "source": [
    "poly_yad = poly_yad.drop(['x6'], axis=1)"
   ]
  },
  {
   "cell_type": "code",
   "execution_count": 49,
   "metadata": {
    "collapsed": false
   },
   "outputs": [
    {
     "name": "stdout",
     "output_type": "stream",
     "text": [
      "                            OLS Regression Results                            \n",
      "==============================================================================\n",
      "Dep. Variable:                     ya   R-squared:                       0.715\n",
      "Model:                            OLS   Adj. R-squared:                  0.715\n",
      "Method:                 Least Squares   F-statistic:                 2.351e+04\n",
      "Date:                Tue, 21 Nov 2017   Prob (F-statistic):               0.00\n",
      "Time:                        21:30:39   Log-Likelihood:            -2.7950e+05\n",
      "No. Observations:               75000   AIC:                         5.590e+05\n",
      "Df Residuals:                   74992   BIC:                         5.591e+05\n",
      "Df Model:                           8                                         \n",
      "Covariance Type:            nonrobust                                         \n",
      "==============================================================================\n",
      "                 coef    std err          t      P>|t|      [0.025      0.975]\n",
      "------------------------------------------------------------------------------\n",
      "x1             3.8598      0.027    144.430      0.000       3.807       3.912\n",
      "x2             3.4859      0.028    122.868      0.000       3.430       3.542\n",
      "x3             0.3265      0.054      6.082      0.000       0.221       0.432\n",
      "x5             0.2189      0.073      3.002      0.003       0.076       0.362\n",
      "x1:x2          0.5329      0.005    100.754      0.000       0.523       0.543\n",
      "x1:x3          0.1229      0.007     16.965      0.000       0.109       0.137\n",
      "x2:x5          0.0277      0.017      1.600      0.110      -0.006       0.062\n",
      "x3:x5         -0.0294      0.020     -1.478      0.139      -0.068       0.010\n",
      "==============================================================================\n",
      "Omnibus:                        2.586   Durbin-Watson:                   1.997\n",
      "Prob(Omnibus):                  0.274   Jarque-Bera (JB):                2.579\n",
      "Skew:                           0.014   Prob(JB):                        0.275\n",
      "Kurtosis:                       3.005   Cond. No.                         63.0\n",
      "==============================================================================\n",
      "\n",
      "Warnings:\n",
      "[1] Standard Errors assume that the covariance matrix of the errors is correctly specified.\n"
     ]
    }
   ],
   "source": [
    "X_train, X_test, y_train, y_test = train_test_split(poly_yad, target_ya, random_state = 42)\n",
    "est = sm.OLS(y_train, X_train)\n",
    "est2 = est.fit()\n",
    "print(est2.summary())"
   ]
  },
  {
   "cell_type": "code",
   "execution_count": 50,
   "metadata": {
    "collapsed": true
   },
   "outputs": [],
   "source": [
    "poly_yad = poly_yad.drop(['x3:x5'], axis=1)"
   ]
  },
  {
   "cell_type": "code",
   "execution_count": 58,
   "metadata": {
    "collapsed": false
   },
   "outputs": [
    {
     "name": "stdout",
     "output_type": "stream",
     "text": [
      "                            OLS Regression Results                            \n",
      "==============================================================================\n",
      "Dep. Variable:                     ya   R-squared:                       0.715\n",
      "Model:                            OLS   Adj. R-squared:                  0.715\n",
      "Method:                 Least Squares   F-statistic:                 3.134e+04\n",
      "Date:                Tue, 21 Nov 2017   Prob (F-statistic):               0.00\n",
      "Time:                        21:34:24   Log-Likelihood:            -2.7950e+05\n",
      "No. Observations:               75000   AIC:                         5.590e+05\n",
      "Df Residuals:                   74994   BIC:                         5.591e+05\n",
      "Df Model:                           6                                         \n",
      "Covariance Type:            nonrobust                                         \n",
      "==============================================================================\n",
      "                 coef    std err          t      P>|t|      [0.025      0.975]\n",
      "------------------------------------------------------------------------------\n",
      "x1             3.8865      0.024    161.169      0.000       3.839       3.934\n",
      "x2             3.4861      0.025    137.033      0.000       3.436       3.536\n",
      "x3             0.3140      0.051      6.128      0.000       0.214       0.414\n",
      "x5             0.0715      0.036      2.007      0.045       0.002       0.141\n",
      "x1:x2          0.5371      0.005    107.973      0.000       0.527       0.547\n",
      "x1:x3          0.1194      0.007     16.849      0.000       0.106       0.133\n",
      "==============================================================================\n",
      "Omnibus:                        2.583   Durbin-Watson:                   1.997\n",
      "Prob(Omnibus):                  0.275   Jarque-Bera (JB):                2.576\n",
      "Skew:                           0.014   Prob(JB):                        0.276\n",
      "Kurtosis:                       3.004   Cond. No.                         43.4\n",
      "==============================================================================\n",
      "\n",
      "Warnings:\n",
      "[1] Standard Errors assume that the covariance matrix of the errors is correctly specified.\n"
     ]
    }
   ],
   "source": [
    "X_train, X_test, y_train, y_test = train_test_split(poly_yad, target_ya, random_state = 42)\n",
    "est = sm.OLS(y_train, X_train)\n",
    "est2 = est.fit()\n",
    "print(est2.summary())"
   ]
  },
  {
   "cell_type": "code",
   "execution_count": 52,
   "metadata": {
    "collapsed": true
   },
   "outputs": [],
   "source": [
    "poly_yad = poly_yad.drop(['x2:x5'], axis=1)"
   ]
  },
  {
   "cell_type": "code",
   "execution_count": 53,
   "metadata": {
    "collapsed": false
   },
   "outputs": [
    {
     "name": "stdout",
     "output_type": "stream",
     "text": [
      "                            OLS Regression Results                            \n",
      "==============================================================================\n",
      "Dep. Variable:                     ya   R-squared:                       0.715\n",
      "Model:                            OLS   Adj. R-squared:                  0.715\n",
      "Method:                 Least Squares   F-statistic:                 3.134e+04\n",
      "Date:                Tue, 21 Nov 2017   Prob (F-statistic):               0.00\n",
      "Time:                        21:31:45   Log-Likelihood:            -2.7950e+05\n",
      "No. Observations:               75000   AIC:                         5.590e+05\n",
      "Df Residuals:                   74994   BIC:                         5.591e+05\n",
      "Df Model:                           6                                         \n",
      "Covariance Type:            nonrobust                                         \n",
      "==============================================================================\n",
      "                 coef    std err          t      P>|t|      [0.025      0.975]\n",
      "------------------------------------------------------------------------------\n",
      "x1             3.8865      0.024    161.169      0.000       3.839       3.934\n",
      "x2             3.4861      0.025    137.033      0.000       3.436       3.536\n",
      "x3             0.3140      0.051      6.128      0.000       0.214       0.414\n",
      "x5             0.0715      0.036      2.007      0.045       0.002       0.141\n",
      "x1:x2          0.5371      0.005    107.973      0.000       0.527       0.547\n",
      "x1:x3          0.1194      0.007     16.849      0.000       0.106       0.133\n",
      "==============================================================================\n",
      "Omnibus:                        2.583   Durbin-Watson:                   1.997\n",
      "Prob(Omnibus):                  0.275   Jarque-Bera (JB):                2.576\n",
      "Skew:                           0.014   Prob(JB):                        0.276\n",
      "Kurtosis:                       3.004   Cond. No.                         43.4\n",
      "==============================================================================\n",
      "\n",
      "Warnings:\n",
      "[1] Standard Errors assume that the covariance matrix of the errors is correctly specified.\n"
     ]
    }
   ],
   "source": [
    "X_train, X_test, y_train, y_test = train_test_split(poly_yad, target_ya, random_state = 42)\n",
    "est = sm.OLS(y_train, X_train)\n",
    "est2 = est.fit()\n",
    "print(est2.summary())"
   ]
  },
  {
   "cell_type": "code",
   "execution_count": 55,
   "metadata": {
    "collapsed": false
   },
   "outputs": [
    {
     "name": "stdout",
     "output_type": "stream",
     "text": [
      "10.016694502\n"
     ]
    }
   ],
   "source": [
    "lm = LinearRegression().fit(X_train, y_train)\n",
    "y_pred = lm.predict(X_test)\n",
    "print np.sqrt(metrics.mean_squared_error(y_test, y_pred))"
   ]
  },
  {
   "cell_type": "code",
   "execution_count": 60,
   "metadata": {
    "collapsed": false
   },
   "outputs": [
    {
     "name": "stdout",
     "output_type": "stream",
     "text": [
      "                            OLS Regression Results                            \n",
      "==============================================================================\n",
      "Dep. Variable:                     yb   R-squared:                       0.968\n",
      "Model:                            OLS   Adj. R-squared:                  0.968\n",
      "Method:                 Least Squares   F-statistic:                 4.607e+05\n",
      "Date:                Tue, 21 Nov 2017   Prob (F-statistic):               0.00\n",
      "Time:                        21:35:17   Log-Likelihood:                -37564.\n",
      "No. Observations:               75000   AIC:                         7.514e+04\n",
      "Df Residuals:                   74995   BIC:                         7.518e+04\n",
      "Df Model:                           5                                         \n",
      "Covariance Type:            nonrobust                                         \n",
      "==============================================================================\n",
      "                 coef    std err          t      P>|t|      [0.025      0.975]\n",
      "------------------------------------------------------------------------------\n",
      "x1             0.3251      0.001    393.743      0.000       0.323       0.327\n",
      "x2            -0.0868      0.001   -143.260      0.000      -0.088      -0.086\n",
      "x3            -0.0032      0.001     -2.186      0.029      -0.006      -0.000\n",
      "x5             0.1144      0.001     84.376      0.000       0.112       0.117\n",
      "x6             0.0002      0.000      0.648      0.517      -0.000       0.001\n",
      "==============================================================================\n",
      "Omnibus:                      638.898   Durbin-Watson:                   1.843\n",
      "Prob(Omnibus):                  0.000   Jarque-Bera (JB):              647.635\n",
      "Skew:                          -0.220   Prob(JB):                    2.33e-141\n",
      "Kurtosis:                       2.884   Cond. No.                         8.01\n",
      "==============================================================================\n",
      "\n",
      "Warnings:\n",
      "[1] Standard Errors assume that the covariance matrix of the errors is correctly specified.\n"
     ]
    }
   ],
   "source": [
    "X_train, X_test, y_train, y_test = train_test_split(variables_df, target_yb, random_state = 42)\n",
    "est = sm.OLS(y_train, X_train)\n",
    "est2 = est.fit()\n",
    "print(est2.summary())"
   ]
  },
  {
   "cell_type": "code",
   "execution_count": 61,
   "metadata": {
    "collapsed": false
   },
   "outputs": [
    {
     "name": "stdout",
     "output_type": "stream",
     "text": [
      "0.249712377267\n"
     ]
    }
   ],
   "source": [
    "lm = LinearRegression().fit(X_train, y_train)\n",
    "y_pred = lm.predict(X_test)\n",
    "print np.sqrt(metrics.mean_squared_error(y_test, y_pred))"
   ]
  },
  {
   "cell_type": "code",
   "execution_count": 62,
   "metadata": {
    "collapsed": false
   },
   "outputs": [
    {
     "name": "stdout",
     "output_type": "stream",
     "text": [
      "                            OLS Regression Results                            \n",
      "==============================================================================\n",
      "Dep. Variable:                     yb   R-squared:                       0.986\n",
      "Model:                            OLS   Adj. R-squared:                  0.986\n",
      "Method:                 Least Squares   F-statistic:                 3.556e+05\n",
      "Date:                Tue, 21 Nov 2017   Prob (F-statistic):               0.00\n",
      "Time:                        21:35:39   Log-Likelihood:                -6753.6\n",
      "No. Observations:               75000   AIC:                         1.354e+04\n",
      "Df Residuals:                   74985   BIC:                         1.368e+04\n",
      "Df Model:                          15                                         \n",
      "Covariance Type:            nonrobust                                         \n",
      "==============================================================================\n",
      "                 coef    std err          t      P>|t|      [0.025      0.975]\n",
      "------------------------------------------------------------------------------\n",
      "x1             0.4123      0.001    372.839      0.000       0.410       0.414\n",
      "x2            -0.1093      0.001   -142.686      0.000      -0.111      -0.108\n",
      "x3             0.1668      0.002     75.219      0.000       0.162       0.171\n",
      "x5             0.1797      0.002     87.339      0.000       0.176       0.184\n",
      "x6             0.0009      0.001      0.947      0.344      -0.001       0.003\n",
      "x1:x2          0.0131      0.000     46.875      0.000       0.013       0.014\n",
      "x1:x3         -0.0335      0.000   -175.048      0.000      -0.034      -0.033\n",
      "x1:x5         -0.0178      0.001    -30.758      0.000      -0.019      -0.017\n",
      "x1:x6        1.52e-05      0.000      0.101      0.919      -0.000       0.000\n",
      "x2:x3          0.0004      0.000      0.794      0.427      -0.001       0.001\n",
      "x2:x5          0.0207      0.000     45.140      0.000       0.020       0.022\n",
      "x2:x6       9.516e-05      0.000      0.920      0.357      -0.000       0.000\n",
      "x3:x5          0.0007      0.001      0.675      0.500      -0.001       0.003\n",
      "x3:x6         -0.0001      0.000     -0.543      0.587      -0.001       0.000\n",
      "x5:x6      -6.195e-06      0.000     -0.030      0.976      -0.000       0.000\n",
      "==============================================================================\n",
      "Omnibus:                      443.247   Durbin-Watson:                   1.979\n",
      "Prob(Omnibus):                  0.000   Jarque-Bera (JB):              569.526\n",
      "Skew:                           0.101   Prob(JB):                    2.13e-124\n",
      "Kurtosis:                       3.376   Cond. No.                         110.\n",
      "==============================================================================\n",
      "\n",
      "Warnings:\n",
      "[1] Standard Errors assume that the covariance matrix of the errors is correctly specified.\n"
     ]
    }
   ],
   "source": [
    "X_train, X_test, y_train, y_test = train_test_split(poly_df, target_yb, random_state = 42)\n",
    "est = sm.OLS(y_train, X_train)\n",
    "est2 = est.fit()\n",
    "print(est2.summary())"
   ]
  },
  {
   "cell_type": "code",
   "execution_count": 64,
   "metadata": {
    "collapsed": true
   },
   "outputs": [],
   "source": [
    "poly_yb = poly_df.drop(['x5:x6'], axis=1)"
   ]
  },
  {
   "cell_type": "code",
   "execution_count": 65,
   "metadata": {
    "collapsed": false
   },
   "outputs": [
    {
     "name": "stdout",
     "output_type": "stream",
     "text": [
      "                            OLS Regression Results                            \n",
      "==============================================================================\n",
      "Dep. Variable:                     yb   R-squared:                       0.986\n",
      "Model:                            OLS   Adj. R-squared:                  0.986\n",
      "Method:                 Least Squares   F-statistic:                 3.810e+05\n",
      "Date:                Wed, 22 Nov 2017   Prob (F-statistic):               0.00\n",
      "Time:                        12:43:36   Log-Likelihood:                -6753.6\n",
      "No. Observations:               75000   AIC:                         1.354e+04\n",
      "Df Residuals:                   74986   BIC:                         1.366e+04\n",
      "Df Model:                          14                                         \n",
      "Covariance Type:            nonrobust                                         \n",
      "==============================================================================\n",
      "                 coef    std err          t      P>|t|      [0.025      0.975]\n",
      "------------------------------------------------------------------------------\n",
      "x1             0.4123      0.001    372.844      0.000       0.410       0.414\n",
      "x2            -0.1093      0.001   -142.687      0.000      -0.111      -0.108\n",
      "x3             0.1668      0.002     75.220      0.000       0.162       0.171\n",
      "x5             0.1797      0.002     87.340      0.000       0.176       0.184\n",
      "x6             0.0009      0.001      0.966      0.334      -0.001       0.003\n",
      "x1:x2          0.0131      0.000     46.875      0.000       0.013       0.014\n",
      "x1:x3         -0.0335      0.000   -175.050      0.000      -0.034      -0.033\n",
      "x1:x5         -0.0178      0.001    -30.759      0.000      -0.019      -0.017\n",
      "x1:x6       1.517e-05      0.000      0.101      0.919      -0.000       0.000\n",
      "x2:x3          0.0004      0.000      0.794      0.427      -0.001       0.001\n",
      "x2:x5          0.0207      0.000     45.142      0.000       0.020       0.022\n",
      "x2:x6       9.514e-05      0.000      0.920      0.357      -0.000       0.000\n",
      "x3:x5          0.0007      0.001      0.675      0.500      -0.001       0.003\n",
      "x3:x6         -0.0001      0.000     -0.543      0.587      -0.001       0.000\n",
      "==============================================================================\n",
      "Omnibus:                      443.264   Durbin-Watson:                   1.979\n",
      "Prob(Omnibus):                  0.000   Jarque-Bera (JB):              569.555\n",
      "Skew:                           0.101   Prob(JB):                    2.10e-124\n",
      "Kurtosis:                       3.376   Cond. No.                         110.\n",
      "==============================================================================\n",
      "\n",
      "Warnings:\n",
      "[1] Standard Errors assume that the covariance matrix of the errors is correctly specified.\n"
     ]
    }
   ],
   "source": [
    "X_train, X_test, y_train, y_test = train_test_split(poly_yb, target_yb, random_state = 42)\n",
    "est = sm.OLS(y_train, X_train)\n",
    "est2 = est.fit()\n",
    "print(est2.summary())"
   ]
  },
  {
   "cell_type": "code",
   "execution_count": 66,
   "metadata": {
    "collapsed": true
   },
   "outputs": [],
   "source": [
    "poly_yb = poly_yb.drop(['x1:x6'], axis=1)"
   ]
  },
  {
   "cell_type": "code",
   "execution_count": 67,
   "metadata": {
    "collapsed": false
   },
   "outputs": [
    {
     "name": "stdout",
     "output_type": "stream",
     "text": [
      "                            OLS Regression Results                            \n",
      "==============================================================================\n",
      "Dep. Variable:                     yb   R-squared:                       0.986\n",
      "Model:                            OLS   Adj. R-squared:                  0.986\n",
      "Method:                 Least Squares   F-statistic:                 4.103e+05\n",
      "Date:                Wed, 22 Nov 2017   Prob (F-statistic):               0.00\n",
      "Time:                        12:44:00   Log-Likelihood:                -6753.6\n",
      "No. Observations:               75000   AIC:                         1.353e+04\n",
      "Df Residuals:                   74987   BIC:                         1.365e+04\n",
      "Df Model:                          13                                         \n",
      "Covariance Type:            nonrobust                                         \n",
      "==============================================================================\n",
      "                 coef    std err          t      P>|t|      [0.025      0.975]\n",
      "------------------------------------------------------------------------------\n",
      "x1             0.4123      0.001    372.848      0.000       0.410       0.414\n",
      "x2            -0.1093      0.001   -142.689      0.000      -0.111      -0.108\n",
      "x3             0.1668      0.002     75.221      0.000       0.162       0.171\n",
      "x5             0.1797      0.002     87.341      0.000       0.176       0.184\n",
      "x6             0.0009      0.001      1.368      0.171      -0.000       0.002\n",
      "x1:x2          0.0131      0.000     46.877      0.000       0.013       0.014\n",
      "x1:x3         -0.0335      0.000   -175.052      0.000      -0.034      -0.033\n",
      "x1:x5         -0.0178      0.001    -30.760      0.000      -0.019      -0.017\n",
      "x2:x3          0.0004      0.000      0.793      0.428      -0.001       0.001\n",
      "x2:x5          0.0207      0.000     45.142      0.000       0.020       0.022\n",
      "x2:x6       9.513e-05      0.000      0.920      0.358      -0.000       0.000\n",
      "x3:x5          0.0007      0.001      0.674      0.500      -0.001       0.003\n",
      "x3:x6      -9.775e-05      0.000     -0.657      0.511      -0.000       0.000\n",
      "==============================================================================\n",
      "Omnibus:                      443.273   Durbin-Watson:                   1.979\n",
      "Prob(Omnibus):                  0.000   Jarque-Bera (JB):              569.562\n",
      "Skew:                           0.101   Prob(JB):                    2.09e-124\n",
      "Kurtosis:                       3.376   Cond. No.                         83.2\n",
      "==============================================================================\n",
      "\n",
      "Warnings:\n",
      "[1] Standard Errors assume that the covariance matrix of the errors is correctly specified.\n"
     ]
    }
   ],
   "source": [
    "X_train, X_test, y_train, y_test = train_test_split(poly_yb, target_yb, random_state = 42)\n",
    "est = sm.OLS(y_train, X_train)\n",
    "est2 = est.fit()\n",
    "print(est2.summary())"
   ]
  },
  {
   "cell_type": "code",
   "execution_count": 69,
   "metadata": {
    "collapsed": false
   },
   "outputs": [],
   "source": [
    "poly_yb = poly_yb.drop(['x2:x3'], axis=1)"
   ]
  },
  {
   "cell_type": "code",
   "execution_count": 70,
   "metadata": {
    "collapsed": false
   },
   "outputs": [
    {
     "name": "stdout",
     "output_type": "stream",
     "text": [
      "                            OLS Regression Results                            \n",
      "==============================================================================\n",
      "Dep. Variable:                     yb   R-squared:                       0.986\n",
      "Model:                            OLS   Adj. R-squared:                  0.986\n",
      "Method:                 Least Squares   F-statistic:                 4.445e+05\n",
      "Date:                Wed, 22 Nov 2017   Prob (F-statistic):               0.00\n",
      "Time:                        12:45:23   Log-Likelihood:                -6753.9\n",
      "No. Observations:               75000   AIC:                         1.353e+04\n",
      "Df Residuals:                   74988   BIC:                         1.364e+04\n",
      "Df Model:                          12                                         \n",
      "Covariance Type:            nonrobust                                         \n",
      "==============================================================================\n",
      "                 coef    std err          t      P>|t|      [0.025      0.975]\n",
      "------------------------------------------------------------------------------\n",
      "x1             0.4128      0.001    495.302      0.000       0.411       0.414\n",
      "x2            -0.1093      0.001   -142.688      0.000      -0.111      -0.108\n",
      "x3             0.1656      0.002     99.058      0.000       0.162       0.169\n",
      "x5             0.1797      0.002     87.340      0.000       0.176       0.184\n",
      "x6             0.0009      0.001      1.368      0.171      -0.000       0.002\n",
      "x1:x2          0.0133      0.000     94.750      0.000       0.013       0.014\n",
      "x1:x3         -0.0335      0.000   -175.051      0.000      -0.034      -0.033\n",
      "x1:x5         -0.0178      0.001    -30.759      0.000      -0.019      -0.017\n",
      "x2:x5          0.0207      0.000     45.143      0.000       0.020       0.022\n",
      "x2:x6       9.572e-05      0.000      0.926      0.355      -0.000       0.000\n",
      "x3:x5          0.0007      0.001      0.673      0.501      -0.001       0.003\n",
      "x3:x6      -9.727e-05      0.000     -0.654      0.513      -0.000       0.000\n",
      "==============================================================================\n",
      "Omnibus:                      436.353   Durbin-Watson:                   1.979\n",
      "Prob(Omnibus):                  0.000   Jarque-Bera (JB):              561.011\n",
      "Skew:                           0.099   Prob(JB):                    1.51e-122\n",
      "Kurtosis:                       3.375   Cond. No.                         68.4\n",
      "==============================================================================\n",
      "\n",
      "Warnings:\n",
      "[1] Standard Errors assume that the covariance matrix of the errors is correctly specified.\n"
     ]
    }
   ],
   "source": [
    "X_train, X_test, y_train, y_test = train_test_split(poly_yb, target_yb, random_state = 42)\n",
    "est = sm.OLS(y_train, X_train)\n",
    "est2 = est.fit()\n",
    "print(est2.summary())"
   ]
  },
  {
   "cell_type": "code",
   "execution_count": 71,
   "metadata": {
    "collapsed": true
   },
   "outputs": [],
   "source": [
    "poly_yb = poly_yb.drop(['x3:x5'], axis=1)"
   ]
  },
  {
   "cell_type": "code",
   "execution_count": 72,
   "metadata": {
    "collapsed": false
   },
   "outputs": [
    {
     "name": "stdout",
     "output_type": "stream",
     "text": [
      "                            OLS Regression Results                            \n",
      "==============================================================================\n",
      "Dep. Variable:                     yb   R-squared:                       0.986\n",
      "Model:                            OLS   Adj. R-squared:                  0.986\n",
      "Method:                 Least Squares   F-statistic:                 4.849e+05\n",
      "Date:                Wed, 22 Nov 2017   Prob (F-statistic):               0.00\n",
      "Time:                        12:45:42   Log-Likelihood:                -6754.1\n",
      "No. Observations:               75000   AIC:                         1.353e+04\n",
      "Df Residuals:                   74989   BIC:                         1.363e+04\n",
      "Df Model:                          11                                         \n",
      "Covariance Type:            nonrobust                                         \n",
      "==============================================================================\n",
      "                 coef    std err          t      P>|t|      [0.025      0.975]\n",
      "------------------------------------------------------------------------------\n",
      "x1             0.4125      0.001    606.690      0.000       0.411       0.414\n",
      "x2            -0.1093      0.001   -142.696      0.000      -0.111      -0.108\n",
      "x3             0.1663      0.001    121.774      0.000       0.164       0.169\n",
      "x5             0.1797      0.002     87.342      0.000       0.176       0.184\n",
      "x6             0.0009      0.001      1.368      0.171      -0.000       0.002\n",
      "x1:x2          0.0133      0.000     94.756      0.000       0.013       0.014\n",
      "x1:x3         -0.0335      0.000   -175.050      0.000      -0.034      -0.033\n",
      "x1:x5         -0.0175      0.000    -55.838      0.000      -0.018      -0.017\n",
      "x2:x5          0.0207      0.000     45.142      0.000       0.020       0.022\n",
      "x2:x6       9.565e-05      0.000      0.925      0.355      -0.000       0.000\n",
      "x3:x6      -9.732e-05      0.000     -0.654      0.513      -0.000       0.000\n",
      "==============================================================================\n",
      "Omnibus:                      439.521   Durbin-Watson:                   1.979\n",
      "Prob(Omnibus):                  0.000   Jarque-Bera (JB):              564.479\n",
      "Skew:                           0.100   Prob(JB):                    2.66e-123\n",
      "Kurtosis:                       3.375   Cond. No.                         67.2\n",
      "==============================================================================\n",
      "\n",
      "Warnings:\n",
      "[1] Standard Errors assume that the covariance matrix of the errors is correctly specified.\n"
     ]
    }
   ],
   "source": [
    "X_train, X_test, y_train, y_test = train_test_split(poly_yb, target_yb, random_state = 42)\n",
    "est = sm.OLS(y_train, X_train)\n",
    "est2 = est.fit()\n",
    "print(est2.summary())"
   ]
  },
  {
   "cell_type": "code",
   "execution_count": 73,
   "metadata": {
    "collapsed": true
   },
   "outputs": [],
   "source": [
    "poly_yb = poly_yb.drop(['x3:x6'], axis=1)"
   ]
  },
  {
   "cell_type": "code",
   "execution_count": 74,
   "metadata": {
    "collapsed": false
   },
   "outputs": [
    {
     "name": "stdout",
     "output_type": "stream",
     "text": [
      "                            OLS Regression Results                            \n",
      "==============================================================================\n",
      "Dep. Variable:                     yb   R-squared:                       0.986\n",
      "Model:                            OLS   Adj. R-squared:                  0.986\n",
      "Method:                 Least Squares   F-statistic:                 5.334e+05\n",
      "Date:                Wed, 22 Nov 2017   Prob (F-statistic):               0.00\n",
      "Time:                        12:45:59   Log-Likelihood:                -6754.3\n",
      "No. Observations:               75000   AIC:                         1.353e+04\n",
      "Df Residuals:                   74990   BIC:                         1.362e+04\n",
      "Df Model:                          10                                         \n",
      "Covariance Type:            nonrobust                                         \n",
      "==============================================================================\n",
      "                 coef    std err          t      P>|t|      [0.025      0.975]\n",
      "------------------------------------------------------------------------------\n",
      "x1             0.4125      0.001    606.692      0.000       0.411       0.414\n",
      "x2            -0.1093      0.001   -142.697      0.000      -0.111      -0.108\n",
      "x3             0.1663      0.001    121.777      0.000       0.164       0.169\n",
      "x5             0.1797      0.002     87.341      0.000       0.176       0.184\n",
      "x6             0.0006      0.000      1.483      0.138      -0.000       0.001\n",
      "x1:x2          0.0133      0.000     94.756      0.000       0.013       0.014\n",
      "x1:x3         -0.0335      0.000   -175.055      0.000      -0.034      -0.033\n",
      "x1:x5         -0.0175      0.000    -55.836      0.000      -0.018      -0.017\n",
      "x2:x5          0.0207      0.000     45.144      0.000       0.020       0.022\n",
      "x2:x6       9.537e-05      0.000      0.922      0.356      -0.000       0.000\n",
      "==============================================================================\n",
      "Omnibus:                      439.497   Durbin-Watson:                   1.979\n",
      "Prob(Omnibus):                  0.000   Jarque-Bera (JB):              564.421\n",
      "Skew:                           0.100   Prob(JB):                    2.74e-123\n",
      "Kurtosis:                       3.375   Cond. No.                         67.2\n",
      "==============================================================================\n",
      "\n",
      "Warnings:\n",
      "[1] Standard Errors assume that the covariance matrix of the errors is correctly specified.\n"
     ]
    }
   ],
   "source": [
    "X_train, X_test, y_train, y_test = train_test_split(poly_yb, target_yb, random_state = 42)\n",
    "est = sm.OLS(y_train, X_train)\n",
    "est2 = est.fit()\n",
    "print(est2.summary())"
   ]
  },
  {
   "cell_type": "code",
   "execution_count": 75,
   "metadata": {
    "collapsed": true
   },
   "outputs": [],
   "source": [
    "poly_yb = poly_yb.drop(['x2:x6'], axis=1)"
   ]
  },
  {
   "cell_type": "code",
   "execution_count": 76,
   "metadata": {
    "collapsed": false
   },
   "outputs": [
    {
     "name": "stdout",
     "output_type": "stream",
     "text": [
      "                            OLS Regression Results                            \n",
      "==============================================================================\n",
      "Dep. Variable:                     yb   R-squared:                       0.986\n",
      "Model:                            OLS   Adj. R-squared:                  0.986\n",
      "Method:                 Least Squares   F-statistic:                 5.927e+05\n",
      "Date:                Wed, 22 Nov 2017   Prob (F-statistic):               0.00\n",
      "Time:                        12:46:20   Log-Likelihood:                -6754.7\n",
      "No. Observations:               75000   AIC:                         1.353e+04\n",
      "Df Residuals:                   74991   BIC:                         1.361e+04\n",
      "Df Model:                           9                                         \n",
      "Covariance Type:            nonrobust                                         \n",
      "==============================================================================\n",
      "                 coef    std err          t      P>|t|      [0.025      0.975]\n",
      "------------------------------------------------------------------------------\n",
      "x1             0.4125      0.001    606.692      0.000       0.411       0.414\n",
      "x2            -0.1093      0.001   -142.699      0.000      -0.111      -0.108\n",
      "x3             0.1663      0.001    121.778      0.000       0.164       0.169\n",
      "x5             0.1797      0.002     87.341      0.000       0.176       0.184\n",
      "x6             0.0003      0.000      1.287      0.198      -0.000       0.001\n",
      "x1:x2          0.0133      0.000     94.758      0.000       0.013       0.014\n",
      "x1:x3         -0.0335      0.000   -175.054      0.000      -0.034      -0.033\n",
      "x1:x5         -0.0175      0.000    -55.837      0.000      -0.018      -0.017\n",
      "x2:x5          0.0207      0.000     45.143      0.000       0.020       0.022\n",
      "==============================================================================\n",
      "Omnibus:                      439.884   Durbin-Watson:                   1.979\n",
      "Prob(Omnibus):                  0.000   Jarque-Bera (JB):              565.073\n",
      "Skew:                           0.100   Prob(JB):                    1.98e-123\n",
      "Kurtosis:                       3.375   Cond. No.                         67.2\n",
      "==============================================================================\n",
      "\n",
      "Warnings:\n",
      "[1] Standard Errors assume that the covariance matrix of the errors is correctly specified.\n"
     ]
    }
   ],
   "source": [
    "X_train, X_test, y_train, y_test = train_test_split(poly_yb, target_yb, random_state = 42)\n",
    "est = sm.OLS(y_train, X_train)\n",
    "est2 = est.fit()\n",
    "print(est2.summary())"
   ]
  },
  {
   "cell_type": "code",
   "execution_count": 77,
   "metadata": {
    "collapsed": true
   },
   "outputs": [],
   "source": [
    "poly_yb = poly_yb.drop(['x6'], axis=1)"
   ]
  },
  {
   "cell_type": "code",
   "execution_count": 78,
   "metadata": {
    "collapsed": false
   },
   "outputs": [
    {
     "name": "stdout",
     "output_type": "stream",
     "text": [
      "                            OLS Regression Results                            \n",
      "==============================================================================\n",
      "Dep. Variable:                     yb   R-squared:                       0.986\n",
      "Model:                            OLS   Adj. R-squared:                  0.986\n",
      "Method:                 Least Squares   F-statistic:                 6.668e+05\n",
      "Date:                Wed, 22 Nov 2017   Prob (F-statistic):               0.00\n",
      "Time:                        12:46:38   Log-Likelihood:                -6755.6\n",
      "No. Observations:               75000   AIC:                         1.353e+04\n",
      "Df Residuals:                   74992   BIC:                         1.360e+04\n",
      "Df Model:                           8                                         \n",
      "Covariance Type:            nonrobust                                         \n",
      "==============================================================================\n",
      "                 coef    std err          t      P>|t|      [0.025      0.975]\n",
      "------------------------------------------------------------------------------\n",
      "x1             0.4125      0.001    606.688      0.000       0.411       0.414\n",
      "x2            -0.1093      0.001   -142.700      0.000      -0.111      -0.108\n",
      "x3             0.1663      0.001    121.776      0.000       0.164       0.169\n",
      "x5             0.1797      0.002     87.340      0.000       0.176       0.184\n",
      "x1:x2          0.0133      0.000     94.763      0.000       0.013       0.014\n",
      "x1:x3         -0.0335      0.000   -175.049      0.000      -0.034      -0.033\n",
      "x1:x5         -0.0175      0.000    -55.837      0.000      -0.018      -0.017\n",
      "x2:x5          0.0207      0.000     45.142      0.000       0.020       0.022\n",
      "==============================================================================\n",
      "Omnibus:                      439.547   Durbin-Watson:                   1.979\n",
      "Prob(Omnibus):                  0.000   Jarque-Bera (JB):              564.601\n",
      "Skew:                           0.100   Prob(JB):                    2.50e-123\n",
      "Kurtosis:                       3.375   Cond. No.                         67.2\n",
      "==============================================================================\n",
      "\n",
      "Warnings:\n",
      "[1] Standard Errors assume that the covariance matrix of the errors is correctly specified.\n"
     ]
    }
   ],
   "source": [
    "X_train, X_test, y_train, y_test = train_test_split(poly_yb, target_yb, random_state = 42)\n",
    "est = sm.OLS(y_train, X_train)\n",
    "est2 = est.fit()\n",
    "print(est2.summary())"
   ]
  },
  {
   "cell_type": "code",
   "execution_count": 79,
   "metadata": {
    "collapsed": false
   },
   "outputs": [
    {
     "name": "stdout",
     "output_type": "stream",
     "text": [
      "0.225900589942\n"
     ]
    }
   ],
   "source": [
    "lm = LinearRegression().fit(X_train, y_train)\n",
    "y_pred = lm.predict(X_test)\n",
    "print np.sqrt(metrics.mean_squared_error(y_test, y_pred))"
   ]
  },
  {
   "cell_type": "code",
   "execution_count": 80,
   "metadata": {
    "collapsed": false
   },
   "outputs": [
    {
     "name": "stdout",
     "output_type": "stream",
     "text": [
      "                            OLS Regression Results                            \n",
      "==============================================================================\n",
      "Dep. Variable:                     yc   R-squared:                       0.000\n",
      "Model:                            OLS   Adj. R-squared:                  0.000\n",
      "Method:                 Least Squares   F-statistic:                     1.180\n",
      "Date:                Wed, 22 Nov 2017   Prob (F-statistic):              0.316\n",
      "Time:                        12:48:38   Log-Likelihood:             1.5366e+05\n",
      "No. Observations:               75000   AIC:                        -3.073e+05\n",
      "Df Residuals:                   74995   BIC:                        -3.073e+05\n",
      "Df Model:                           5                                         \n",
      "Covariance Type:            nonrobust                                         \n",
      "==============================================================================\n",
      "                 coef    std err          t      P>|t|      [0.025      0.975]\n",
      "------------------------------------------------------------------------------\n",
      "x1          7.248e-05   6.45e-05      1.124      0.261   -5.39e-05       0.000\n",
      "x2          1.007e-05   4.73e-05      0.213      0.831   -8.26e-05       0.000\n",
      "x3            -0.0002      0.000     -1.554      0.120      -0.000    4.63e-05\n",
      "x5             0.0002      0.000      1.760      0.078   -2.12e-05       0.000\n",
      "x6          8.763e-06   2.44e-05      0.359      0.720   -3.91e-05    5.66e-05\n",
      "==============================================================================\n",
      "Omnibus:                    29089.284   Durbin-Watson:                   1.999\n",
      "Prob(Omnibus):                  0.000   Jarque-Bera (JB):          5042118.536\n",
      "Skew:                           0.763   Prob(JB):                         0.00\n",
      "Kurtosis:                      43.139   Cond. No.                         8.01\n",
      "==============================================================================\n",
      "\n",
      "Warnings:\n",
      "[1] Standard Errors assume that the covariance matrix of the errors is correctly specified.\n"
     ]
    }
   ],
   "source": [
    "X_train, X_test, y_train, y_test = train_test_split(variables_df, target_yc, random_state = 42)\n",
    "est = sm.OLS(y_train, X_train)\n",
    "est2 = est.fit()\n",
    "print(est2.summary())"
   ]
  },
  {
   "cell_type": "code",
   "execution_count": 82,
   "metadata": {
    "collapsed": false
   },
   "outputs": [
    {
     "name": "stdout",
     "output_type": "stream",
     "text": [
      "0.0312813167637\n"
     ]
    }
   ],
   "source": [
    "lm = LinearRegression().fit(X_train, y_train)\n",
    "y_pred = lm.predict(X_test)\n",
    "print np.sqrt(metrics.mean_squared_error(y_test, y_pred))"
   ]
  },
  {
   "cell_type": "code",
   "execution_count": 59,
   "metadata": {
    "collapsed": false
   },
   "outputs": [
    {
     "name": "stdout",
     "output_type": "stream",
     "text": [
      "                            OLS Regression Results                            \n",
      "==============================================================================\n",
      "Dep. Variable:                     yc   R-squared:                       0.000\n",
      "Model:                            OLS   Adj. R-squared:                  0.000\n",
      "Method:                 Least Squares   F-statistic:                     1.180\n",
      "Date:                Mon, 20 Nov 2017   Prob (F-statistic):              0.316\n",
      "Time:                        22:05:40   Log-Likelihood:             1.5366e+05\n",
      "No. Observations:               75000   AIC:                        -3.073e+05\n",
      "Df Residuals:                   74995   BIC:                        -3.073e+05\n",
      "Df Model:                           5                                         \n",
      "Covariance Type:            nonrobust                                         \n",
      "==============================================================================\n",
      "                 coef    std err          t      P>|t|      [0.025      0.975]\n",
      "------------------------------------------------------------------------------\n",
      "x1          7.248e-05   6.45e-05      1.124      0.261   -5.39e-05       0.000\n",
      "x2          1.007e-05   4.73e-05      0.213      0.831   -8.26e-05       0.000\n",
      "x3            -0.0002      0.000     -1.554      0.120      -0.000    4.63e-05\n",
      "x5             0.0002      0.000      1.760      0.078   -2.12e-05       0.000\n",
      "x6          8.763e-06   2.44e-05      0.359      0.720   -3.91e-05    5.66e-05\n",
      "==============================================================================\n",
      "Omnibus:                    29089.284   Durbin-Watson:                   1.999\n",
      "Prob(Omnibus):                  0.000   Jarque-Bera (JB):          5042118.536\n",
      "Skew:                           0.763   Prob(JB):                         0.00\n",
      "Kurtosis:                      43.139   Cond. No.                         8.01\n",
      "==============================================================================\n",
      "\n",
      "Warnings:\n",
      "[1] Standard Errors assume that the covariance matrix of the errors is correctly specified.\n"
     ]
    }
   ],
   "source": [
    "X_train, X_test, y_train, y_test = train_test_split(variables_df, target_yc, random_state = 42)\n",
    "est = sm.OLS(y_train, X_train)\n",
    "est2 = est.fit()\n",
    "print(est2.summary())"
   ]
  },
  {
   "cell_type": "code",
   "execution_count": 83,
   "metadata": {
    "collapsed": false
   },
   "outputs": [
    {
     "name": "stdout",
     "output_type": "stream",
     "text": [
      "0.0312813167637\n"
     ]
    }
   ],
   "source": [
    "lm = LinearRegression().fit(X_train, y_train)\n",
    "y_pred = lm.predict(X_test)\n",
    "print np.sqrt(metrics.mean_squared_error(y_test, y_pred))"
   ]
  },
  {
   "cell_type": "code",
   "execution_count": 61,
   "metadata": {
    "collapsed": false
   },
   "outputs": [
    {
     "name": "stdout",
     "output_type": "stream",
     "text": [
      "                            OLS Regression Results                            \n",
      "==============================================================================\n",
      "Dep. Variable:                     yc   R-squared:                       0.000\n",
      "Model:                            OLS   Adj. R-squared:                  0.000\n",
      "Method:                 Least Squares   F-statistic:                     1.363\n",
      "Date:                Mon, 20 Nov 2017   Prob (F-statistic):              0.155\n",
      "Time:                        22:05:42   Log-Likelihood:             1.5366e+05\n",
      "No. Observations:               75000   AIC:                        -3.073e+05\n",
      "Df Residuals:                   74985   BIC:                        -3.072e+05\n",
      "Df Model:                          15                                         \n",
      "Covariance Type:            nonrobust                                         \n",
      "==============================================================================\n",
      "                 coef    std err          t      P>|t|      [0.025      0.975]\n",
      "------------------------------------------------------------------------------\n",
      "x1             0.0001      0.000      0.959      0.337      -0.000       0.000\n",
      "x2            -0.0001   9.02e-05     -1.366      0.172      -0.000    5.36e-05\n",
      "x3            -0.0005      0.000     -1.803      0.071      -0.001    4.09e-05\n",
      "x5            -0.0002      0.000     -0.745      0.456      -0.001       0.000\n",
      "x6          6.252e-05      0.000      0.582      0.560      -0.000       0.000\n",
      "x1:x2       5.697e-05    3.3e-05      1.725      0.085   -7.78e-06       0.000\n",
      "x1:x3       2.636e-05   2.26e-05      1.169      0.243   -1.78e-05    7.06e-05\n",
      "x1:x5       7.099e-05   6.81e-05      1.042      0.297   -6.25e-05       0.000\n",
      "x1:x6       6.754e-06   1.77e-05      0.383      0.702   -2.78e-05    4.14e-05\n",
      "x2:x3      -5.851e-05   5.72e-05     -1.023      0.306      -0.000    5.36e-05\n",
      "x2:x5      -2.519e-05   5.39e-05     -0.467      0.640      -0.000    8.05e-05\n",
      "x2:x6       2.943e-05   1.22e-05      2.416      0.016    5.56e-06    5.33e-05\n",
      "x3:x5      -1.689e-05      0.000     -0.148      0.882      -0.000       0.000\n",
      "x3:x6      -1.139e-05   2.44e-05     -0.468      0.640   -5.91e-05    3.64e-05\n",
      "x5:x6       2.634e-05   2.43e-05      1.083      0.279   -2.13e-05     7.4e-05\n",
      "==============================================================================\n",
      "Omnibus:                    29088.114   Durbin-Watson:                   1.999\n",
      "Prob(Omnibus):                  0.000   Jarque-Bera (JB):          5038457.885\n",
      "Skew:                           0.764   Prob(JB):                         0.00\n",
      "Kurtosis:                      43.124   Cond. No.                         110.\n",
      "==============================================================================\n",
      "\n",
      "Warnings:\n",
      "[1] Standard Errors assume that the covariance matrix of the errors is correctly specified.\n"
     ]
    }
   ],
   "source": [
    "X_train, X_test, y_train, y_test = train_test_split(poly_df, target_yc, random_state = 42)\n",
    "est = sm.OLS(y_train, X_train)\n",
    "est2 = est.fit()\n",
    "print(est2.summary())"
   ]
  },
  {
   "cell_type": "code",
   "execution_count": 62,
   "metadata": {
    "collapsed": false
   },
   "outputs": [
    {
     "name": "stdout",
     "output_type": "stream",
     "text": [
      "0.0312797922305\n"
     ]
    }
   ],
   "source": [
    "lm2.fit(X_train, y_train)\n",
    "y_pred = lm2.predict(X_test)\n",
    "print(np.sqrt(metrics.mean_squared_error(y_test, y_pred)))"
   ]
  },
  {
   "cell_type": "markdown",
   "metadata": {},
   "source": [
    "| Target | Standard RMSE | Interaction RMSE | Standard R-squared | Interaction R-squared |\n",
    "| -- | -- | -- | -- |  -- |\n",
    "| ya | 10.462 | 10.017| 0.668 | 0.715 |\n",
    "| yb | 0.250 | 0.226 | 0.968 | 0.986 |\n",
    "| yc | 0.031 | 0.031 | 0.000 | 0.000 |\n"
   ]
  },
  {
   "cell_type": "markdown",
   "metadata": {},
   "source": [
    "## Question One Summary <a class=\"anchor\" id=\"q1s\"></a>\n",
    "\n",
    "ya = 3.8865(x1) + 3.4861(x2) + 0.314(x3) + 0.0715(x5) + 0.5371(x1)(x2) + 0.1194(x1)(x3)\n",
    "\n",
    "yb = 0.4125(x1) + -0.1093(x2) + 0.1663(x3) + 0.1797(x5) + 0.0133(x1)(x2) + -0.0335(x1)(x3) + -0.0175(x1)(x5) +  0.0207(x2)(x5)\n",
    "\n",
    "yc does not seem to be depenendent on the x features.\n",
    "\n",
    "I ran three separate multiple regressions to explore the relationships between the features and the three sets of target variables. I found that the first two, ya and yb, did have predictive relationships while the third, yc, did not. In the case of the first two relationships, both were slightly improved by incorporating feature interactions. I determined the quality of the relationships based on the R-squared (how well the data fits the line) as well as the reduced mean standard error of the predicted versus true y values from the test set.\n",
    "\n",
    "For both ya and yb, there were some shared features which were not predictive. Of the original features, x6 did not significantly contribute to the model. None of the interactions features including x6 significantly contributed to the model either. Features that did contribute to both models include\n",
    "x1, x2, x3, x5, x1:x2, x1:x3\n",
    "\n",
    "For the yb model, the interactions between x1:x5 and x2:x5 also signficantly contributed to the model.\n",
    "\n",
    "The yb model with interactions is clearly the best, with lowest RMSE and the highest R squared. The ya model with interactions is next best, and the yc model was not signfiicant at all."
   ]
  },
  {
   "cell_type": "markdown",
   "metadata": {},
   "source": [
    "## Data Set Two<a class=\"anchor\" id=\"D2\"></a>"
   ]
  },
  {
   "cell_type": "code",
   "execution_count": 84,
   "metadata": {
    "collapsed": false
   },
   "outputs": [],
   "source": [
    "d2 = pd.read_csv('Data set 2.csv')\n",
    "d2.rename(columns={'Unnamed: 0':'id'}, inplace=True)\n",
    "variables_df2 = d2.drop(['id'], axis=1)"
   ]
  },
  {
   "cell_type": "code",
   "execution_count": 85,
   "metadata": {
    "collapsed": false
   },
   "outputs": [
    {
     "data": {
      "text/html": [
       "<div>\n",
       "<style>\n",
       "    .dataframe thead tr:only-child th {\n",
       "        text-align: right;\n",
       "    }\n",
       "\n",
       "    .dataframe thead th {\n",
       "        text-align: left;\n",
       "    }\n",
       "\n",
       "    .dataframe tbody tr th {\n",
       "        vertical-align: top;\n",
       "    }\n",
       "</style>\n",
       "<table border=\"1\" class=\"dataframe\">\n",
       "  <thead>\n",
       "    <tr style=\"text-align: right;\">\n",
       "      <th></th>\n",
       "      <th>X1</th>\n",
       "      <th>X2</th>\n",
       "      <th>X3</th>\n",
       "      <th>X4</th>\n",
       "      <th>X5</th>\n",
       "      <th>X6</th>\n",
       "      <th>X7</th>\n",
       "      <th>X8</th>\n",
       "      <th>X9</th>\n",
       "      <th>X10</th>\n",
       "    </tr>\n",
       "  </thead>\n",
       "  <tbody>\n",
       "    <tr>\n",
       "      <th>count</th>\n",
       "      <td>2000.000000</td>\n",
       "      <td>2000.000000</td>\n",
       "      <td>2000.000000</td>\n",
       "      <td>2000.000000</td>\n",
       "      <td>2000.000000</td>\n",
       "      <td>2000.000000</td>\n",
       "      <td>2000.000000</td>\n",
       "      <td>2000.000000</td>\n",
       "      <td>2000.000000</td>\n",
       "      <td>2000.000000</td>\n",
       "    </tr>\n",
       "    <tr>\n",
       "      <th>mean</th>\n",
       "      <td>8.677829</td>\n",
       "      <td>11.716801</td>\n",
       "      <td>9.252817</td>\n",
       "      <td>-2.679634</td>\n",
       "      <td>2.774942</td>\n",
       "      <td>0.077631</td>\n",
       "      <td>8.200884</td>\n",
       "      <td>8.712878</td>\n",
       "      <td>-12.860135</td>\n",
       "      <td>-1.339360</td>\n",
       "    </tr>\n",
       "    <tr>\n",
       "      <th>std</th>\n",
       "      <td>11.971827</td>\n",
       "      <td>6.655333</td>\n",
       "      <td>9.861443</td>\n",
       "      <td>10.625164</td>\n",
       "      <td>8.800553</td>\n",
       "      <td>15.375478</td>\n",
       "      <td>10.426023</td>\n",
       "      <td>9.881482</td>\n",
       "      <td>8.881026</td>\n",
       "      <td>14.534143</td>\n",
       "    </tr>\n",
       "    <tr>\n",
       "      <th>min</th>\n",
       "      <td>-25.824199</td>\n",
       "      <td>-8.497562</td>\n",
       "      <td>-23.666439</td>\n",
       "      <td>-29.429655</td>\n",
       "      <td>-22.033329</td>\n",
       "      <td>-35.264019</td>\n",
       "      <td>-21.428538</td>\n",
       "      <td>-16.811146</td>\n",
       "      <td>-36.065150</td>\n",
       "      <td>-36.468083</td>\n",
       "    </tr>\n",
       "    <tr>\n",
       "      <th>25%</th>\n",
       "      <td>0.231327</td>\n",
       "      <td>7.161564</td>\n",
       "      <td>2.648845</td>\n",
       "      <td>-10.652694</td>\n",
       "      <td>-4.098043</td>\n",
       "      <td>-14.003670</td>\n",
       "      <td>-0.812888</td>\n",
       "      <td>1.480706</td>\n",
       "      <td>-19.430697</td>\n",
       "      <td>-13.216190</td>\n",
       "    </tr>\n",
       "    <tr>\n",
       "      <th>50%</th>\n",
       "      <td>12.754335</td>\n",
       "      <td>11.896021</td>\n",
       "      <td>11.422441</td>\n",
       "      <td>-2.631318</td>\n",
       "      <td>2.484416</td>\n",
       "      <td>1.500838</td>\n",
       "      <td>8.532535</td>\n",
       "      <td>9.628064</td>\n",
       "      <td>-14.417786</td>\n",
       "      <td>-2.094310</td>\n",
       "    </tr>\n",
       "    <tr>\n",
       "      <th>75%</th>\n",
       "      <td>17.364337</td>\n",
       "      <td>16.279210</td>\n",
       "      <td>16.503676</td>\n",
       "      <td>5.340314</td>\n",
       "      <td>9.660898</td>\n",
       "      <td>14.050512</td>\n",
       "      <td>17.138898</td>\n",
       "      <td>16.081044</td>\n",
       "      <td>-6.534142</td>\n",
       "      <td>10.561797</td>\n",
       "    </tr>\n",
       "    <tr>\n",
       "      <th>max</th>\n",
       "      <td>32.268570</td>\n",
       "      <td>32.909917</td>\n",
       "      <td>31.230550</td>\n",
       "      <td>26.422798</td>\n",
       "      <td>29.312010</td>\n",
       "      <td>31.727042</td>\n",
       "      <td>32.084297</td>\n",
       "      <td>36.847922</td>\n",
       "      <td>13.553705</td>\n",
       "      <td>32.641789</td>\n",
       "    </tr>\n",
       "  </tbody>\n",
       "</table>\n",
       "</div>"
      ],
      "text/plain": [
       "                X1           X2           X3           X4           X5  \\\n",
       "count  2000.000000  2000.000000  2000.000000  2000.000000  2000.000000   \n",
       "mean      8.677829    11.716801     9.252817    -2.679634     2.774942   \n",
       "std      11.971827     6.655333     9.861443    10.625164     8.800553   \n",
       "min     -25.824199    -8.497562   -23.666439   -29.429655   -22.033329   \n",
       "25%       0.231327     7.161564     2.648845   -10.652694    -4.098043   \n",
       "50%      12.754335    11.896021    11.422441    -2.631318     2.484416   \n",
       "75%      17.364337    16.279210    16.503676     5.340314     9.660898   \n",
       "max      32.268570    32.909917    31.230550    26.422798    29.312010   \n",
       "\n",
       "                X6           X7           X8           X9          X10  \n",
       "count  2000.000000  2000.000000  2000.000000  2000.000000  2000.000000  \n",
       "mean      0.077631     8.200884     8.712878   -12.860135    -1.339360  \n",
       "std      15.375478    10.426023     9.881482     8.881026    14.534143  \n",
       "min     -35.264019   -21.428538   -16.811146   -36.065150   -36.468083  \n",
       "25%     -14.003670    -0.812888     1.480706   -19.430697   -13.216190  \n",
       "50%       1.500838     8.532535     9.628064   -14.417786    -2.094310  \n",
       "75%      14.050512    17.138898    16.081044    -6.534142    10.561797  \n",
       "max      31.727042    32.084297    36.847922    13.553705    32.641789  "
      ]
     },
     "execution_count": 85,
     "metadata": {},
     "output_type": "execute_result"
    }
   ],
   "source": [
    "variables_df2.describe()"
   ]
  },
  {
   "cell_type": "markdown",
   "metadata": {},
   "source": [
    "<h2>Describe</h2> <a class=\"anchor\" id=\"d2qa\"></a>\n",
    "The dataset is ten features of continuous data. The features of this dataset range between approximately -35 and 35. The features have very different means, ranging from approximately -12 to 12. X2 and x3 have the highest means, and x9 has by far the lowest mean. The features generally have a standard deviation around 10. "
   ]
  },
  {
   "cell_type": "markdown",
   "metadata": {},
   "source": [
    "<h2>Visualize</h2> <a class=\"anchor\" id=\"d2qb\"></a>"
   ]
  },
  {
   "cell_type": "code",
   "execution_count": 135,
   "metadata": {
    "collapsed": false
   },
   "outputs": [
    {
     "data": {
      "text/plain": [
       "<matplotlib.axes._subplots.AxesSubplot at 0x11aa52a50>"
      ]
     },
     "execution_count": 135,
     "metadata": {},
     "output_type": "execute_result"
    },
    {
     "data": {
      "image/png": "[encoded data removed]",
      "text/plain": [
       "<matplotlib.figure.Figure at 0x11aa44cd0>"
      ]
     },
     "metadata": {},
     "output_type": "display_data"
    }
   ],
   "source": [
    "variables_df2 = d2.drop(['id'], axis=1)\n",
    "sns.heatmap(variables_df2.corr(), cmap=\"viridis\")"
   ]
  },
  {
   "cell_type": "markdown",
   "metadata": {},
   "source": [
    "This correlation matrix allows the viewer to visualize the correlations between the features. The bright yellow and light green indicate close correlations - it appears that features 2, 4, 6, 7, 8, and 9 all have relatively strong correlations with each other. It also appears that features 1, 3, and 5 have relatively strong correlations. From this, I would anticipate that this data would stand up well to dimension reduction."
   ]
  },
  {
   "cell_type": "code",
   "execution_count": 145,
   "metadata": {
    "collapsed": false
   },
   "outputs": [
    {
     "data": {
      "text/plain": [
       "[(-50, 40)]"
      ]
     },
     "execution_count": 145,
     "metadata": {},
     "output_type": "execute_result"
    },
    {
     "data": {
      "image/png": "[encoded data removed]",
      "text/plain": [
       "<matplotlib.figure.Figure at 0x1179b1c90>"
      ]
     },
     "metadata": {},
     "output_type": "display_data"
    }
   ],
   "source": [
    "variables_df2.plot(kind = 'kde', alpha = 0.6, cmap = \"viridis\").set(xlim=(-50, 40))"
   ]
  },
  {
   "cell_type": "markdown",
   "metadata": {},
   "source": [
    "This density plot shows the distribution of values for each feature, and the relative quantity of cases for that any given value. It gives an overall sense of the variables relative to each other, in terms of the range and median values for the features."
   ]
  },
  {
   "cell_type": "code",
   "execution_count": 146,
   "metadata": {
    "collapsed": false
   },
   "outputs": [
    {
     "data": {
      "text/plain": [
       "<matplotlib.axes._subplots.AxesSubplot at 0x117972810>"
      ]
     },
     "execution_count": 146,
     "metadata": {},
     "output_type": "execute_result"
    },
    {
     "data": {
      "image/png": "[encoded data removed]",
      "text/plain": [
       "<matplotlib.figure.Figure at 0x1179b18d0>"
      ]
     },
     "metadata": {},
     "output_type": "display_data"
    }
   ],
   "source": [
    "variables_df2.boxplot(fontsize=14, rot=30)"
   ]
  },
  {
   "cell_type": "markdown",
   "metadata": {},
   "source": [
    "This boxplot shows the distribution of values for each feature, focusing on the mean and quartiles. It gives an overall sense of the variables relative to each other in a way that the other plot does not. The plot shows that the median is closer to the third quartile than the first quartile, and closer to maximum than the minimum for x1 and x3, suggest a left skew. The opposite seems the be true for x9 - the median is closer to the first quartile, and marginally closer to the minimum."
   ]
  },
  {
   "cell_type": "markdown",
   "metadata": {},
   "source": [
    "<h2>Multiple Sources</h2> <a class=\"anchor\" id=\"d2qc\"></a>"
   ]
  },
  {
   "cell_type": "code",
   "execution_count": 88,
   "metadata": {
    "collapsed": false
   },
   "outputs": [
    {
     "data": {
      "text/plain": [
       "<matplotlib.collections.PathCollection at 0x110266e50>"
      ]
     },
     "execution_count": 88,
     "metadata": {},
     "output_type": "execute_result"
    },
    {
     "data": {
      "image/png": "[encoded data removed]",
      "text/plain": [
       "<matplotlib.figure.Figure at 0x11027c050>"
      ]
     },
     "metadata": {},
     "output_type": "display_data"
    }
   ],
   "source": [
    "pca = PCA(n_components=2)\n",
    "X_pca = pca.fit_transform(variables_df2)\n",
    "plt.scatter(X_pca[:, 0], X_pca[:, 1], alpha=0.8)"
   ]
  },
  {
   "cell_type": "markdown",
   "metadata": {},
   "source": [
    "A Pricipal Components analysis is a decomposition and dimension reduction technique that comprises substantial aspects of the variation of the dataset. I chose two dimensions based on my earlier observations that there seemed to be generally two groupings of correlations. This technique makes no assumptions about group membership. I see potentially three or four distinct groups. To me this suggests that the data is composed of likely three or four distinct datasets that were combined, or came from three or four different sources. I will investigate."
   ]
  },
  {
   "cell_type": "code",
   "execution_count": 89,
   "metadata": {
    "collapsed": false
   },
   "outputs": [
    {
     "name": "stdout",
     "output_type": "stream",
     "text": [
      "0.460575907769\n",
      "2148.47408204\n"
     ]
    }
   ],
   "source": [
    "kmeans2 = KMeans(n_clusters=2)\n",
    "kmeans2.fit(variables_df2)\n",
    "y_kmeans2 = kmeans2.predict(variables_df2)\n",
    "labels2 = kmeans2.labels_\n",
    "print metrics.silhouette_score(variables_df2, labels2, metric='euclidean')\n",
    "print metrics.calinski_harabaz_score(variables_df2, labels2)"
   ]
  },
  {
   "cell_type": "code",
   "execution_count": 90,
   "metadata": {
    "collapsed": false
   },
   "outputs": [
    {
     "data": {
      "text/plain": [
       "<matplotlib.collections.PathCollection at 0x1103075d0>"
      ]
     },
     "execution_count": 90,
     "metadata": {},
     "output_type": "execute_result"
    },
    {
     "data": {
      "image/png": "[encoded data removed]",
      "text/plain": [
       "<matplotlib.figure.Figure at 0x11027c2d0>"
      ]
     },
     "metadata": {},
     "output_type": "display_data"
    }
   ],
   "source": [
    "plt.scatter(X_pca[:, 0], X_pca[:, 1], c=y_kmeans2, s=50, cmap='plasma')"
   ]
  },
  {
   "cell_type": "code",
   "execution_count": 91,
   "metadata": {
    "collapsed": false
   },
   "outputs": [
    {
     "name": "stdout",
     "output_type": "stream",
     "text": [
      "0.47777997955\n",
      "2206.21413667\n"
     ]
    }
   ],
   "source": [
    "kmeans3 = KMeans(n_clusters=3)\n",
    "kmeans3.fit(variables_df2)\n",
    "y_kmeans3 = kmeans3.predict(variables_df2)\n",
    "labels3 = kmeans3.labels_\n",
    "print metrics.silhouette_score(variables_df2, labels3, metric='euclidean')\n",
    "print metrics.calinski_harabaz_score(variables_df2, labels3)"
   ]
  },
  {
   "cell_type": "code",
   "execution_count": 92,
   "metadata": {
    "collapsed": false
   },
   "outputs": [
    {
     "data": {
      "text/plain": [
       "<matplotlib.collections.PathCollection at 0x10f93fbd0>"
      ]
     },
     "execution_count": 92,
     "metadata": {},
     "output_type": "execute_result"
    },
    {
     "data": {
      "image/png": "[encoded data removed]",
      "text/plain": [
       "<matplotlib.figure.Figure at 0x10eba7210>"
      ]
     },
     "metadata": {},
     "output_type": "display_data"
    }
   ],
   "source": [
    "plt.scatter(X_pca[:, 0], X_pca[:, 1], c=y_kmeans3, s=50, cmap='plasma')"
   ]
  },
  {
   "cell_type": "code",
   "execution_count": 93,
   "metadata": {
    "collapsed": false
   },
   "outputs": [
    {
     "name": "stdout",
     "output_type": "stream",
     "text": [
      "0.468583058019\n",
      "2541.1388031\n"
     ]
    }
   ],
   "source": [
    "kmeans4 = KMeans(n_clusters=4)\n",
    "kmeans4.fit(variables_df2)\n",
    "y_kmeans4 = kmeans4.predict(variables_df2)\n",
    "labels4 = kmeans4.labels_\n",
    "print metrics.silhouette_score(variables_df2, labels4, metric='euclidean')\n",
    "print metrics.calinski_harabaz_score(variables_df2, labels4)"
   ]
  },
  {
   "cell_type": "code",
   "execution_count": 94,
   "metadata": {
    "collapsed": false
   },
   "outputs": [
    {
     "data": {
      "text/plain": [
       "<matplotlib.collections.PathCollection at 0x110697450>"
      ]
     },
     "execution_count": 94,
     "metadata": {},
     "output_type": "execute_result"
    },
    {
     "data": {
      "image/png": "[encoded data removed]",
      "text/plain": [
       "<matplotlib.figure.Figure at 0x10f88ea10>"
      ]
     },
     "metadata": {},
     "output_type": "display_data"
    }
   ],
   "source": [
    "plt.scatter(X_pca[:, 0], X_pca[:, 1], c=y_kmeans4, s=50, cmap='plasma')"
   ]
  },
  {
   "cell_type": "code",
   "execution_count": 95,
   "metadata": {
    "collapsed": false
   },
   "outputs": [
    {
     "name": "stdout",
     "output_type": "stream",
     "text": [
      "0.378647500102\n",
      "1958.38928762\n"
     ]
    }
   ],
   "source": [
    "kmeans5 = KMeans(n_clusters=5)\n",
    "kmeans5.fit(variables_df2)\n",
    "y_kmeans5 = kmeans5.predict(variables_df2)\n",
    "labels5 = kmeans5.labels_\n",
    "print metrics.silhouette_score(variables_df2, labels5, metric='euclidean')\n",
    "print metrics.calinski_harabaz_score(variables_df2, labels5)"
   ]
  },
  {
   "cell_type": "code",
   "execution_count": 96,
   "metadata": {
    "collapsed": false
   },
   "outputs": [
    {
     "data": {
      "text/plain": [
       "<matplotlib.collections.PathCollection at 0x1021b9390>"
      ]
     },
     "execution_count": 96,
     "metadata": {},
     "output_type": "execute_result"
    },
    {
     "data": {
      "image/png": "[encoded data removed]",
      "text/plain": [
       "<matplotlib.figure.Figure at 0x10f958650>"
      ]
     },
     "metadata": {},
     "output_type": "display_data"
    }
   ],
   "source": [
    "plt.scatter(X_pca[:, 0], X_pca[:, 1], c=y_kmeans5, s=50, cmap='plasma')"
   ]
  },
  {
   "cell_type": "markdown",
   "metadata": {},
   "source": [
    "| N-clusters | Silhouette score | Calinski-Harabaz score |\n",
    "| -- | -- | -- |\n",
    "| 2 | 0.461 | 2148|\n",
    "| 3 | 0.478 | 2206 |\n",
    "| 4 | 0.469 | 2541 |\n",
    "| 5 | 0.353 | 1958 |\n"
   ]
  },
  {
   "cell_type": "markdown",
   "metadata": {},
   "source": [
    "<h2>Group Membership</h2> <a class=\"anchor\" id=\"d2qd\"></a>\n",
    "\n",
    "Although visually I assessed possibly 3 or four groups, I tested the possibility for 2 - 5 potential groups with the k-means approach. The combination of examining the Silhouette and Calinski-Harabaz score (see table above) gives us an evaluation of how well the data is clustered, based on the relationships within and between the proposed groups. Larger scores indicate more cohesive, distinct groups. Two, three and four groups performed similarly by the silhouette score analysis, but four groups performed best by the Calinski-Harabaz analysis. I would conclude that there were likely four distinct datasets, and I would assign group membership as seen below to in a new column titled 'dataset.'"
   ]
  },
  {
   "cell_type": "code",
   "execution_count": 102,
   "metadata": {
    "collapsed": false
   },
   "outputs": [],
   "source": [
    "variables_df3 = variables_df2.copy()\n",
    "variables_df3['dataset'] = kmeans4.predict(variables_df2)"
   ]
  },
  {
   "cell_type": "code",
   "execution_count": 103,
   "metadata": {
    "collapsed": false
   },
   "outputs": [
    {
     "data": {
      "text/html": [
       "<div>\n",
       "<style>\n",
       "    .dataframe thead tr:only-child th {\n",
       "        text-align: right;\n",
       "    }\n",
       "\n",
       "    .dataframe thead th {\n",
       "        text-align: left;\n",
       "    }\n",
       "\n",
       "    .dataframe tbody tr th {\n",
       "        vertical-align: top;\n",
       "    }\n",
       "</style>\n",
       "<table border=\"1\" class=\"dataframe\">\n",
       "  <thead>\n",
       "    <tr style=\"text-align: right;\">\n",
       "      <th></th>\n",
       "      <th>X1</th>\n",
       "      <th>X2</th>\n",
       "      <th>X3</th>\n",
       "      <th>X4</th>\n",
       "      <th>X5</th>\n",
       "      <th>X6</th>\n",
       "      <th>X7</th>\n",
       "      <th>X8</th>\n",
       "      <th>X9</th>\n",
       "      <th>X10</th>\n",
       "      <th>dataset</th>\n",
       "    </tr>\n",
       "  </thead>\n",
       "  <tbody>\n",
       "    <tr>\n",
       "      <th>1990</th>\n",
       "      <td>12.685503</td>\n",
       "      <td>13.286576</td>\n",
       "      <td>1.425978</td>\n",
       "      <td>-6.770319</td>\n",
       "      <td>-9.287647</td>\n",
       "      <td>-17.176531</td>\n",
       "      <td>4.005404</td>\n",
       "      <td>-4.887608</td>\n",
       "      <td>-16.954947</td>\n",
       "      <td>3.271598</td>\n",
       "      <td>0</td>\n",
       "    </tr>\n",
       "    <tr>\n",
       "      <th>1991</th>\n",
       "      <td>5.137837</td>\n",
       "      <td>28.775873</td>\n",
       "      <td>-3.071237</td>\n",
       "      <td>8.318760</td>\n",
       "      <td>17.946880</td>\n",
       "      <td>10.822901</td>\n",
       "      <td>15.177355</td>\n",
       "      <td>12.748184</td>\n",
       "      <td>-7.222269</td>\n",
       "      <td>-15.868694</td>\n",
       "      <td>1</td>\n",
       "    </tr>\n",
       "    <tr>\n",
       "      <th>1992</th>\n",
       "      <td>-3.996182</td>\n",
       "      <td>13.170389</td>\n",
       "      <td>-9.596179</td>\n",
       "      <td>11.327313</td>\n",
       "      <td>5.213916</td>\n",
       "      <td>14.669887</td>\n",
       "      <td>17.434041</td>\n",
       "      <td>15.337560</td>\n",
       "      <td>-1.958857</td>\n",
       "      <td>-11.802435</td>\n",
       "      <td>1</td>\n",
       "    </tr>\n",
       "    <tr>\n",
       "      <th>1993</th>\n",
       "      <td>-14.146796</td>\n",
       "      <td>19.069596</td>\n",
       "      <td>-6.457944</td>\n",
       "      <td>5.252442</td>\n",
       "      <td>3.543560</td>\n",
       "      <td>13.957701</td>\n",
       "      <td>16.216708</td>\n",
       "      <td>17.488235</td>\n",
       "      <td>-12.769905</td>\n",
       "      <td>-9.477421</td>\n",
       "      <td>1</td>\n",
       "    </tr>\n",
       "    <tr>\n",
       "      <th>1994</th>\n",
       "      <td>13.217568</td>\n",
       "      <td>5.205674</td>\n",
       "      <td>12.777293</td>\n",
       "      <td>-13.849575</td>\n",
       "      <td>6.727372</td>\n",
       "      <td>1.116503</td>\n",
       "      <td>-8.220643</td>\n",
       "      <td>4.683718</td>\n",
       "      <td>-25.910487</td>\n",
       "      <td>24.533975</td>\n",
       "      <td>3</td>\n",
       "    </tr>\n",
       "    <tr>\n",
       "      <th>1995</th>\n",
       "      <td>7.938971</td>\n",
       "      <td>14.415032</td>\n",
       "      <td>10.410805</td>\n",
       "      <td>0.596848</td>\n",
       "      <td>0.754864</td>\n",
       "      <td>-22.318668</td>\n",
       "      <td>1.326246</td>\n",
       "      <td>-5.919270</td>\n",
       "      <td>-14.141233</td>\n",
       "      <td>2.284455</td>\n",
       "      <td>0</td>\n",
       "    </tr>\n",
       "    <tr>\n",
       "      <th>1996</th>\n",
       "      <td>12.296486</td>\n",
       "      <td>9.133867</td>\n",
       "      <td>6.703856</td>\n",
       "      <td>3.074668</td>\n",
       "      <td>-4.969635</td>\n",
       "      <td>19.249157</td>\n",
       "      <td>13.643448</td>\n",
       "      <td>8.458500</td>\n",
       "      <td>-18.058443</td>\n",
       "      <td>-22.983281</td>\n",
       "      <td>2</td>\n",
       "    </tr>\n",
       "    <tr>\n",
       "      <th>1997</th>\n",
       "      <td>9.958681</td>\n",
       "      <td>2.660313</td>\n",
       "      <td>20.833856</td>\n",
       "      <td>-13.244253</td>\n",
       "      <td>19.291720</td>\n",
       "      <td>-9.732882</td>\n",
       "      <td>-3.350364</td>\n",
       "      <td>3.186218</td>\n",
       "      <td>-18.598822</td>\n",
       "      <td>20.423716</td>\n",
       "      <td>3</td>\n",
       "    </tr>\n",
       "    <tr>\n",
       "      <th>1998</th>\n",
       "      <td>-10.355833</td>\n",
       "      <td>15.105070</td>\n",
       "      <td>-5.705684</td>\n",
       "      <td>7.196082</td>\n",
       "      <td>0.849879</td>\n",
       "      <td>19.485150</td>\n",
       "      <td>11.989341</td>\n",
       "      <td>26.697433</td>\n",
       "      <td>-0.763111</td>\n",
       "      <td>-5.759242</td>\n",
       "      <td>1</td>\n",
       "    </tr>\n",
       "    <tr>\n",
       "      <th>1999</th>\n",
       "      <td>16.033693</td>\n",
       "      <td>14.308373</td>\n",
       "      <td>12.222013</td>\n",
       "      <td>-9.343368</td>\n",
       "      <td>-2.822996</td>\n",
       "      <td>-15.729261</td>\n",
       "      <td>6.376017</td>\n",
       "      <td>-6.680791</td>\n",
       "      <td>-14.146463</td>\n",
       "      <td>-2.226976</td>\n",
       "      <td>0</td>\n",
       "    </tr>\n",
       "  </tbody>\n",
       "</table>\n",
       "</div>"
      ],
      "text/plain": [
       "             X1         X2         X3         X4         X5         X6  \\\n",
       "1990  12.685503  13.286576   1.425978  -6.770319  -9.287647 -17.176531   \n",
       "1991   5.137837  28.775873  -3.071237   8.318760  17.946880  10.822901   \n",
       "1992  -3.996182  13.170389  -9.596179  11.327313   5.213916  14.669887   \n",
       "1993 -14.146796  19.069596  -6.457944   5.252442   3.543560  13.957701   \n",
       "1994  13.217568   5.205674  12.777293 -13.849575   6.727372   1.116503   \n",
       "1995   7.938971  14.415032  10.410805   0.596848   0.754864 -22.318668   \n",
       "1996  12.296486   9.133867   6.703856   3.074668  -4.969635  19.249157   \n",
       "1997   9.958681   2.660313  20.833856 -13.244253  19.291720  -9.732882   \n",
       "1998 -10.355833  15.105070  -5.705684   7.196082   0.849879  19.485150   \n",
       "1999  16.033693  14.308373  12.222013  -9.343368  -2.822996 -15.729261   \n",
       "\n",
       "             X7         X8         X9        X10  dataset  \n",
       "1990   4.005404  -4.887608 -16.954947   3.271598        0  \n",
       "1991  15.177355  12.748184  -7.222269 -15.868694        1  \n",
       "1992  17.434041  15.337560  -1.958857 -11.802435        1  \n",
       "1993  16.216708  17.488235 -12.769905  -9.477421        1  \n",
       "1994  -8.220643   4.683718 -25.910487  24.533975        3  \n",
       "1995   1.326246  -5.919270 -14.141233   2.284455        0  \n",
       "1996  13.643448   8.458500 -18.058443 -22.983281        2  \n",
       "1997  -3.350364   3.186218 -18.598822  20.423716        3  \n",
       "1998  11.989341  26.697433  -0.763111  -5.759242        1  \n",
       "1999   6.376017  -6.680791 -14.146463  -2.226976        0  "
      ]
     },
     "execution_count": 103,
     "metadata": {},
     "output_type": "execute_result"
    }
   ],
   "source": [
    "variables_df3.tail(n=10)"
   ]
  },
  {
   "cell_type": "markdown",
   "metadata": {
    "collapsed": true
   },
   "source": [
    "## Question Two Summary <a class=\"anchor\" id=\"q2s\"></a>\n",
    "\n",
    "I explored the dataset and the relationship among the features. Based on patterns of covariation, I anticipated that the dataset could be approximated in two dimensions using Principal Components Analysis. From the data representation alone, it appeared that there might be three or four distinct groups. I then used the k-means approach to explore whether this was true, and used two different metrics to evaluate the groups. I determined that four groups was the best fit, and assigned the group membership to the original data.\n"
   ]
  },
  {
   "cell_type": "code",
   "execution_count": null,
   "metadata": {
    "collapsed": true
   },
   "outputs": [],
   "source": []
  },
  {
   "cell_type": "code",
   "execution_count": null,
   "metadata": {
    "collapsed": true
   },
   "outputs": [],
   "source": []
  },
  {
   "cell_type": "code",
   "execution_count": null,
   "metadata": {
    "collapsed": true
   },
   "outputs": [],
   "source": []
  },
  {
   "cell_type": "code",
   "execution_count": null,
   "metadata": {
    "collapsed": true
   },
   "outputs": [],
   "source": []
  },
  {
   "cell_type": "code",
   "execution_count": null,
   "metadata": {
    "collapsed": true
   },
   "outputs": [],
   "source": []
  },
  {
   "cell_type": "code",
   "execution_count": null,
   "metadata": {
    "collapsed": true
   },
   "outputs": [],
   "source": []
  }
 ],
 "metadata": {
  "kernelspec": {
   "display_name": "Python 2",
   "language": "python",
   "name": "python2"
  },
  "language_info": {
   "codemirror_mode": {
    "name": "ipython",
    "version": 2
   },
   "file_extension": ".py",
   "mimetype": "text/x-python",
   "name": "python",
   "nbconvert_exporter": "python",
   "pygments_lexer": "ipython2",
   "version": "2.7.13"
  }
 },
 "nbformat": 4,
 "nbformat_minor": 2
}
